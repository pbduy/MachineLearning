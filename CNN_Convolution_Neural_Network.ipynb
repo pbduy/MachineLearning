{
  "nbformat": 4,
  "nbformat_minor": 0,
  "metadata": {
    "colab": {
      "name": "CNN_Convolution_Neural_Network.ipynb",
      "provenance": [],
      "toc_visible": true,
      "authorship_tag": "ABX9TyOcV5PKlkuLWdO0qYbvl/rV",
      "include_colab_link": true
    },
    "kernelspec": {
      "name": "python3",
      "display_name": "Python 3"
    }
  },
  "cells": [
    {
      "cell_type": "markdown",
      "metadata": {
        "id": "view-in-github",
        "colab_type": "text"
      },
      "source": [
        "<a href=\"https://colab.research.google.com/github/pbduy/Machine_Learning/blob/master/CNN_Convolution_Neural_Network.ipynb\" target=\"_parent\"><img src=\"https://colab.research.google.com/assets/colab-badge.svg\" alt=\"Open In Colab\"/></a>"
      ]
    },
    {
      "cell_type": "code",
      "metadata": {
        "id": "9LKVuXfn-dFx",
        "colab_type": "code",
        "colab": {
          "base_uri": "https://localhost:8080/",
          "height": 50
        },
        "outputId": "d2fecdef-d48c-42be-e8ba-4aa4ff354fc5"
      },
      "source": [
        "#Prepare data\n",
        "from keras.datasets import mnist\n",
        "import numpy as np\n",
        "\n",
        "(x_train, y_train), (x_test, y_test) = mnist.load_data()\n",
        "\n",
        "#Normalize data\n",
        "x_train_norm = x_train / 255.0\n",
        "x_test_norm = x_test / 255.0\n",
        "\n",
        "#Convert to one-hot vector\n",
        "def onehot(y):\n",
        "  oh = np.zeros((y.shape[0], 10))\n",
        "  oh[np.arange(y.shape[0]), y] = 1\n",
        "  return oh\n",
        "\n",
        "y_train_oh = onehot(y_train)\n",
        "y_test_oh = onehot(y_test)"
      ],
      "execution_count": 1,
      "outputs": [
        {
          "output_type": "stream",
          "text": [
            "Downloading data from https://storage.googleapis.com/tensorflow/tf-keras-datasets/mnist.npz\n",
            "11493376/11490434 [==============================] - 0s 0us/step\n"
          ],
          "name": "stdout"
        }
      ]
    },
    {
      "cell_type": "code",
      "metadata": {
        "id": "UQXx2EEpA553",
        "colab_type": "code",
        "colab": {
          "base_uri": "https://localhost:8080/",
          "height": 298
        },
        "outputId": "51c42efd-6217-40ec-8082-a95d0e3bc19c"
      },
      "source": [
        "import matplotlib.pyplot as plt\n",
        "\n",
        "index = 1234\n",
        "print(y_train_oh[index])\n",
        "plt.imshow(x_train_norm[index])\n",
        "print('Size of input: ', x_train_norm.shape)"
      ],
      "execution_count": 2,
      "outputs": [
        {
          "output_type": "stream",
          "text": [
            "[0. 0. 0. 1. 0. 0. 0. 0. 0. 0.]\n",
            "Size of input:  (60000, 28, 28)\n"
          ],
          "name": "stdout"
        },
        {
          "output_type": "display_data",
          "data": {
            "image/png": "[encoded data removed]",
            "text/plain": [
              "<Figure size 432x288 with 1 Axes>"
            ]
          },
          "metadata": {
            "tags": [],
            "needs_background": "light"
          }
        }
      ]
    },
    {
      "cell_type": "markdown",
      "metadata": {
        "id": "5y28Ltmvcys8",
        "colab_type": "text"
      },
      "source": [
        "# Task 1: Implement LeNet for MNIST dataset."
      ]
    },
    {
      "cell_type": "code",
      "metadata": {
        "id": "Kd3JtbI3zC5l",
        "colab_type": "code",
        "colab": {}
      },
      "source": [
        "from keras.layers import Input, Conv2D, Dense, MaxPooling2D, Flatten\n",
        "from keras import Model\n",
        "\n",
        "class LeNet:\n",
        "  def __init__(self):\n",
        "    self.model = None\n",
        "\n",
        "  def build(self, input_dim):\n",
        "    input = Input(shape=input_dim)\n",
        "\n",
        "    #Convolution block\n",
        "    C1 = Conv2D(6, (3, 3), padding=\"same\", activation='relu', use_bias=True)(input)\n",
        "    S2 = MaxPooling2D(pool_size=(2, 2), strides=2, padding=\"same\")(C1)\n",
        "    C3 = Conv2D(16, (5, 5), padding=\"same\", activation='relu', use_bias=True)(S2)\n",
        "    S4 = MaxPooling2D(pool_size=(2, 2), strides=2, padding=\"same\")(C3)\n",
        "\n",
        "    #Fully connected block\n",
        "    flat = Flatten()(S4)\n",
        "    FC5 = Dense(120, activation='relu', use_bias=True)(flat)\n",
        "    FC6 = Dense(84, activation='relu', use_bias=True)(FC5)\n",
        "    output = Dense(10, activation='softmax', use_bias=True)(flat)\n",
        "\n",
        "    self.model = Model(input, output)\n",
        "    self.model.compile(optimizer=\"adam\", loss='categorical_crossentropy', metrics=['accuracy'])\n",
        "\n",
        "  def train(self, x_train, y_train):\n",
        "    history = self.model.fit(x_train, y_train, batch_size=128, epochs=20, validation_split=0.2)\n",
        "    return history\n",
        "  \n",
        "  def predict(self, x_test):\n",
        "    return self.model.predict(x_test)\n",
        "  \n",
        "  def summary(self):\n",
        "    self.model.summary()\n",
        "  \n",
        "  def load(self, model_file):\n",
        "    self.model = load_model(model_file)\n",
        "  \n",
        "  def save(self, model_file):\n",
        "    self.model.save(model_file)"
      ],
      "execution_count": 3,
      "outputs": []
    },
    {
      "cell_type": "code",
      "metadata": {
        "id": "eWMKjt8AACtJ",
        "colab_type": "code",
        "colab": {
          "base_uri": "https://localhost:8080/",
          "height": 1000
        },
        "outputId": "158ad93b-cffc-46d6-cb4e-cecc5670dc42"
      },
      "source": [
        "leNet = LeNet()\n",
        "leNet.build((28, 28, 1))\n",
        "leNet.summary()\n",
        "hist = leNet.train(x_train_norm, y_train_oh)"
      ],
      "execution_count": 4,
      "outputs": [
        {
          "output_type": "stream",
          "text": [
            "Model: \"functional_1\"\n",
            "_________________________________________________________________\n",
            "Layer (type)                 Output Shape              Param #   \n",
            "=================================================================\n",
            "input_1 (InputLayer)         [(None, 28, 28, 1)]       0         \n",
            "_________________________________________________________________\n",
            "conv2d (Conv2D)              (None, 28, 28, 6)         60        \n",
            "_________________________________________________________________\n",
            "max_pooling2d (MaxPooling2D) (None, 14, 14, 6)         0         \n",
            "_________________________________________________________________\n",
            "conv2d_1 (Conv2D)            (None, 14, 14, 16)        2416      \n",
            "_________________________________________________________________\n",
            "max_pooling2d_1 (MaxPooling2 (None, 7, 7, 16)          0         \n",
            "_________________________________________________________________\n",
            "flatten (Flatten)            (None, 784)               0         \n",
            "_________________________________________________________________\n",
            "dense_2 (Dense)              (None, 10)                7850      \n",
            "=================================================================\n",
            "Total params: 10,326\n",
            "Trainable params: 10,326\n",
            "Non-trainable params: 0\n",
            "_________________________________________________________________\n",
            "Epoch 1/20\n",
            "375/375 [==============================] - 26s 70ms/step - loss: 0.4369 - accuracy: 0.8817 - val_loss: 0.1442 - val_accuracy: 0.9589\n",
            "Epoch 2/20\n",
            "375/375 [==============================] - 26s 70ms/step - loss: 0.1224 - accuracy: 0.9634 - val_loss: 0.0918 - val_accuracy: 0.9728\n",
            "Epoch 3/20\n",
            "375/375 [==============================] - 26s 69ms/step - loss: 0.0851 - accuracy: 0.9747 - val_loss: 0.0895 - val_accuracy: 0.9719\n",
            "Epoch 4/20\n",
            "375/375 [==============================] - 26s 69ms/step - loss: 0.0708 - accuracy: 0.9786 - val_loss: 0.0700 - val_accuracy: 0.9798\n",
            "Epoch 5/20\n",
            "375/375 [==============================] - 26s 69ms/step - loss: 0.0612 - accuracy: 0.9816 - val_loss: 0.0608 - val_accuracy: 0.9838\n",
            "Epoch 6/20\n",
            "375/375 [==============================] - 26s 69ms/step - loss: 0.0546 - accuracy: 0.9830 - val_loss: 0.0607 - val_accuracy: 0.9822\n",
            "Epoch 7/20\n",
            "375/375 [==============================] - 26s 69ms/step - loss: 0.0488 - accuracy: 0.9852 - val_loss: 0.0587 - val_accuracy: 0.9821\n",
            "Epoch 8/20\n",
            "375/375 [==============================] - 26s 69ms/step - loss: 0.0447 - accuracy: 0.9860 - val_loss: 0.0611 - val_accuracy: 0.9822\n",
            "Epoch 9/20\n",
            "375/375 [==============================] - 26s 69ms/step - loss: 0.0411 - accuracy: 0.9874 - val_loss: 0.0570 - val_accuracy: 0.9834\n",
            "Epoch 10/20\n",
            "375/375 [==============================] - 26s 70ms/step - loss: 0.0379 - accuracy: 0.9878 - val_loss: 0.0545 - val_accuracy: 0.9835\n",
            "Epoch 11/20\n",
            "375/375 [==============================] - 26s 70ms/step - loss: 0.0354 - accuracy: 0.9889 - val_loss: 0.0503 - val_accuracy: 0.9863\n",
            "Epoch 12/20\n",
            "375/375 [==============================] - 26s 70ms/step - loss: 0.0336 - accuracy: 0.9897 - val_loss: 0.0518 - val_accuracy: 0.9849\n",
            "Epoch 13/20\n",
            "375/375 [==============================] - 26s 70ms/step - loss: 0.0308 - accuracy: 0.9903 - val_loss: 0.0519 - val_accuracy: 0.9862\n",
            "Epoch 14/20\n",
            "375/375 [==============================] - 26s 70ms/step - loss: 0.0285 - accuracy: 0.9912 - val_loss: 0.0541 - val_accuracy: 0.9842\n",
            "Epoch 15/20\n",
            "375/375 [==============================] - 26s 70ms/step - loss: 0.0259 - accuracy: 0.9918 - val_loss: 0.0508 - val_accuracy: 0.9859\n",
            "Epoch 16/20\n",
            "375/375 [==============================] - 26s 70ms/step - loss: 0.0241 - accuracy: 0.9925 - val_loss: 0.0543 - val_accuracy: 0.9847\n",
            "Epoch 17/20\n",
            "375/375 [==============================] - 26s 70ms/step - loss: 0.0234 - accuracy: 0.9928 - val_loss: 0.0521 - val_accuracy: 0.9862\n",
            "Epoch 18/20\n",
            "375/375 [==============================] - 26s 70ms/step - loss: 0.0217 - accuracy: 0.9931 - val_loss: 0.0520 - val_accuracy: 0.9858\n",
            "Epoch 19/20\n",
            "375/375 [==============================] - 26s 70ms/step - loss: 0.0194 - accuracy: 0.9939 - val_loss: 0.0621 - val_accuracy: 0.9831\n",
            "Epoch 20/20\n",
            "375/375 [==============================] - 26s 70ms/step - loss: 0.0184 - accuracy: 0.9940 - val_loss: 0.0513 - val_accuracy: 0.9862\n"
          ],
          "name": "stdout"
        }
      ]
    },
    {
      "cell_type": "code",
      "metadata": {
        "id": "NOEYLdl1FrKU",
        "colab_type": "code",
        "colab": {
          "base_uri": "https://localhost:8080/",
          "height": 295
        },
        "outputId": "68bf0770-99e0-456a-d1f4-2003aa70f380"
      },
      "source": [
        "plt.plot(hist.history['loss'])\n",
        "plt.plot(hist.history['val_loss'])\n",
        "plt.title('Loss history when training the model')\n",
        "plt.xlabel('Epoch')\n",
        "plt.ylabel('Loss')\n",
        "plt.legend(['Training loss', 'Validation loss']) #Table\n",
        "plt.show()"
      ],
      "execution_count": 5,
      "outputs": [
        {
          "output_type": "display_data",
          "data": {
            "image/png": "[encoded data removed]",
            "text/plain": [
              "<Figure size 432x288 with 1 Axes>"
            ]
          },
          "metadata": {
            "tags": [],
            "needs_background": "light"
          }
        }
      ]
    },
    {
      "cell_type": "code",
      "metadata": {
        "id": "gi0BrhCXIgyh",
        "colab_type": "code",
        "colab": {
          "base_uri": "https://localhost:8080/",
          "height": 295
        },
        "outputId": "7bc4ab3c-411a-4a4e-d178-73c6416d4ff0"
      },
      "source": [
        "plt.plot(hist.history['accuracy'])\n",
        "plt.plot(hist.history['val_accuracy'])\n",
        "plt.title('Accuracy when training the model')\n",
        "plt.xlabel('Epoch')\n",
        "plt.ylabel('Accuracy')\n",
        "plt.legend(['Training accuracy', 'Validation accuracy']) #Table\n",
        "plt.show()"
      ],
      "execution_count": 6,
      "outputs": [
        {
          "output_type": "display_data",
          "data": {
            "image/png": "[encoded data removed]",
            "text/plain": [
              "<Figure size 432x288 with 1 Axes>"
            ]
          },
          "metadata": {
            "tags": [],
            "needs_background": "light"
          }
        }
      ]
    },
    {
      "cell_type": "code",
      "metadata": {
        "id": "NHlDYVATGSV5",
        "colab_type": "code",
        "colab": {
          "base_uri": "https://localhost:8080/",
          "height": 298
        },
        "outputId": "e54ad02c-36c4-444d-8dfd-15d9d14a9f54"
      },
      "source": [
        "test_index = 100\n",
        "plt.imshow(x_test_norm[test_index])\n",
        "plt.show()\n",
        "predict_label = leNet.predict(x_test_norm)\n",
        "\n",
        "print('Predicted label of the first test sample: ', np.argmax(predict_label[test_index]))\n",
        "print('Ground-truth of the', test_index,'-th sample: ', y_test[test_index])"
      ],
      "execution_count": 7,
      "outputs": [
        {
          "output_type": "display_data",
          "data": {
            "image/png": "[encoded data removed]",
            "text/plain": [
              "<Figure size 432x288 with 1 Axes>"
            ]
          },
          "metadata": {
            "tags": [],
            "needs_background": "light"
          }
        },
        {
          "output_type": "stream",
          "text": [
            "Predicted label of the first test sample:  6\n",
            "Ground-truth of the 100 -th sample:  6\n"
          ],
          "name": "stdout"
        }
      ]
    },
    {
      "cell_type": "markdown",
      "metadata": {
        "id": "NiH-IvJRdfpH",
        "colab_type": "text"
      },
      "source": [
        "# Task 2: Replace RELu by sigmoid and tanh respectively"
      ]
    },
    {
      "cell_type": "markdown",
      "metadata": {
        "id": "Ct3W-WXRe4qt",
        "colab_type": "text"
      },
      "source": [
        "##2.1: Replace RELu by sigmoid"
      ]
    },
    {
      "cell_type": "code",
      "metadata": {
        "id": "PKttC_1Kds4V",
        "colab_type": "code",
        "colab": {}
      },
      "source": [
        "class LeNet_sigmoid:\n",
        "  def __init__(self):\n",
        "    self.model = None\n",
        "\n",
        "  def build(self, input_dim):\n",
        "    input = Input(shape=input_dim)\n",
        "\n",
        "    #Convolution block\n",
        "    C1 = Conv2D(6, (3, 3), padding=\"same\", activation='sigmoid', use_bias=True)(input)\n",
        "    S2 = MaxPooling2D(pool_size=(2, 2), strides=2, padding=\"same\")(C1)\n",
        "    C3 = Conv2D(16, (5, 5), padding=\"same\", activation='sigmoid', use_bias=True)(S2)\n",
        "    S4 = MaxPooling2D(pool_size=(2, 2), strides=2, padding=\"same\")(C3)\n",
        "\n",
        "    #Fully connected block\n",
        "    flat = Flatten()(S4)\n",
        "    FC5 = Dense(120, activation='sigmoid', use_bias=True)(flat)\n",
        "    FC6 = Dense(84, activation='sigmoid', use_bias=True)(FC5)\n",
        "    output = Dense(10, activation='softmax', use_bias=True)(flat)\n",
        "\n",
        "    self.model = Model(input, output)\n",
        "    self.model.compile(optimizer=\"adam\", loss='categorical_crossentropy', metrics=['accuracy'])\n",
        "\n",
        "  def train(self, x_train, y_train):\n",
        "    history = self.model.fit(x_train, y_train, batch_size=128, epochs=20, validation_split=0.2)\n",
        "    return history\n",
        "  \n",
        "  def predict(self, x_test):\n",
        "    return self.model.predict(x_test)\n",
        "  \n",
        "  def summary(self):\n",
        "    self.model.summary()\n",
        "  \n",
        "  def load(self, model_file):\n",
        "    self.model = load_model(model_file)\n",
        "  \n",
        "  def save(self, model_file):\n",
        "    self.model.save(model_file)"
      ],
      "execution_count": 8,
      "outputs": []
    },
    {
      "cell_type": "code",
      "metadata": {
        "id": "vJhCEbgwd-5J",
        "colab_type": "code",
        "colab": {
          "base_uri": "https://localhost:8080/",
          "height": 1000
        },
        "outputId": "7b51b10e-8f84-4fef-9631-5d1858b81775"
      },
      "source": [
        "leNet_sigmoid = LeNet_sigmoid()\n",
        "leNet_sigmoid.build((28, 28, 1))\n",
        "leNet_sigmoid.summary()\n",
        "hist_sigmoid = leNet_sigmoid.train(x_train_norm, y_train_oh)"
      ],
      "execution_count": 9,
      "outputs": [
        {
          "output_type": "stream",
          "text": [
            "Model: \"functional_3\"\n",
            "_________________________________________________________________\n",
            "Layer (type)                 Output Shape              Param #   \n",
            "=================================================================\n",
            "input_2 (InputLayer)         [(None, 28, 28, 1)]       0         \n",
            "_________________________________________________________________\n",
            "conv2d_2 (Conv2D)            (None, 28, 28, 6)         60        \n",
            "_________________________________________________________________\n",
            "max_pooling2d_2 (MaxPooling2 (None, 14, 14, 6)         0         \n",
            "_________________________________________________________________\n",
            "conv2d_3 (Conv2D)            (None, 14, 14, 16)        2416      \n",
            "_________________________________________________________________\n",
            "max_pooling2d_3 (MaxPooling2 (None, 7, 7, 16)          0         \n",
            "_________________________________________________________________\n",
            "flatten_1 (Flatten)          (None, 784)               0         \n",
            "_________________________________________________________________\n",
            "dense_5 (Dense)              (None, 10)                7850      \n",
            "=================================================================\n",
            "Total params: 10,326\n",
            "Trainable params: 10,326\n",
            "Non-trainable params: 0\n",
            "_________________________________________________________________\n",
            "Epoch 1/20\n",
            "375/375 [==============================] - 26s 70ms/step - loss: 1.8183 - accuracy: 0.4011 - val_loss: 0.6144 - val_accuracy: 0.8526\n",
            "Epoch 2/20\n",
            "375/375 [==============================] - 26s 70ms/step - loss: 0.4437 - accuracy: 0.8788 - val_loss: 0.3130 - val_accuracy: 0.9148\n",
            "Epoch 3/20\n",
            "375/375 [==============================] - 26s 69ms/step - loss: 0.2934 - accuracy: 0.9153 - val_loss: 0.2401 - val_accuracy: 0.9300\n",
            "Epoch 4/20\n",
            "375/375 [==============================] - 26s 69ms/step - loss: 0.2308 - accuracy: 0.9325 - val_loss: 0.1965 - val_accuracy: 0.9424\n",
            "Epoch 5/20\n",
            "375/375 [==============================] - 26s 69ms/step - loss: 0.1901 - accuracy: 0.9443 - val_loss: 0.1701 - val_accuracy: 0.9489\n",
            "Epoch 6/20\n",
            "375/375 [==============================] - 26s 69ms/step - loss: 0.1617 - accuracy: 0.9530 - val_loss: 0.1420 - val_accuracy: 0.9594\n",
            "Epoch 7/20\n",
            "375/375 [==============================] - 26s 69ms/step - loss: 0.1407 - accuracy: 0.9590 - val_loss: 0.1283 - val_accuracy: 0.9621\n",
            "Epoch 8/20\n",
            "375/375 [==============================] - 26s 69ms/step - loss: 0.1251 - accuracy: 0.9632 - val_loss: 0.1201 - val_accuracy: 0.9647\n",
            "Epoch 9/20\n",
            "375/375 [==============================] - 26s 69ms/step - loss: 0.1123 - accuracy: 0.9669 - val_loss: 0.1061 - val_accuracy: 0.9675\n",
            "Epoch 10/20\n",
            "375/375 [==============================] - 26s 69ms/step - loss: 0.1012 - accuracy: 0.9701 - val_loss: 0.0978 - val_accuracy: 0.9709\n",
            "Epoch 11/20\n",
            "375/375 [==============================] - 26s 69ms/step - loss: 0.0941 - accuracy: 0.9721 - val_loss: 0.0935 - val_accuracy: 0.9721\n",
            "Epoch 12/20\n",
            "375/375 [==============================] - 26s 69ms/step - loss: 0.0866 - accuracy: 0.9744 - val_loss: 0.0857 - val_accuracy: 0.9744\n",
            "Epoch 13/20\n",
            "375/375 [==============================] - 26s 69ms/step - loss: 0.0804 - accuracy: 0.9760 - val_loss: 0.0827 - val_accuracy: 0.9749\n",
            "Epoch 14/20\n",
            "375/375 [==============================] - 26s 69ms/step - loss: 0.0750 - accuracy: 0.9774 - val_loss: 0.0778 - val_accuracy: 0.9765\n",
            "Epoch 15/20\n",
            "375/375 [==============================] - 26s 69ms/step - loss: 0.0710 - accuracy: 0.9786 - val_loss: 0.0750 - val_accuracy: 0.9777\n",
            "Epoch 16/20\n",
            "375/375 [==============================] - 26s 69ms/step - loss: 0.0668 - accuracy: 0.9804 - val_loss: 0.0703 - val_accuracy: 0.9783\n",
            "Epoch 17/20\n",
            "375/375 [==============================] - 26s 69ms/step - loss: 0.0630 - accuracy: 0.9810 - val_loss: 0.0706 - val_accuracy: 0.9782\n",
            "Epoch 18/20\n",
            "375/375 [==============================] - 26s 69ms/step - loss: 0.0597 - accuracy: 0.9820 - val_loss: 0.0676 - val_accuracy: 0.9791\n",
            "Epoch 19/20\n",
            "375/375 [==============================] - 26s 69ms/step - loss: 0.0576 - accuracy: 0.9828 - val_loss: 0.0679 - val_accuracy: 0.9788\n",
            "Epoch 20/20\n",
            "375/375 [==============================] - 26s 69ms/step - loss: 0.0549 - accuracy: 0.9839 - val_loss: 0.0643 - val_accuracy: 0.9791\n"
          ],
          "name": "stdout"
        }
      ]
    },
    {
      "cell_type": "code",
      "metadata": {
        "id": "vtgSOaEQeQ1m",
        "colab_type": "code",
        "colab": {
          "base_uri": "https://localhost:8080/",
          "height": 295
        },
        "outputId": "b91a36b3-faa7-4c11-cfa5-c42a9452c1b2"
      },
      "source": [
        "plt.plot(hist_sigmoid.history['loss'])\n",
        "plt.plot(hist_sigmoid.history['val_loss'])\n",
        "plt.title('Loss history when training the model')\n",
        "plt.xlabel('Epoch')\n",
        "plt.ylabel('Loss')\n",
        "plt.legend(['Training loss', 'Validation loss']) #Table\n",
        "plt.show()"
      ],
      "execution_count": 10,
      "outputs": [
        {
          "output_type": "display_data",
          "data": {
            "image/png": "[encoded data removed]",
            "text/plain": [
              "<Figure size 432x288 with 1 Axes>"
            ]
          },
          "metadata": {
            "tags": [],
            "needs_background": "light"
          }
        }
      ]
    },
    {
      "cell_type": "code",
      "metadata": {
        "id": "_EKwONVoep04",
        "colab_type": "code",
        "colab": {
          "base_uri": "https://localhost:8080/",
          "height": 295
        },
        "outputId": "1684862a-fb6b-42c8-97ff-a3975bf5d2e6"
      },
      "source": [
        "plt.plot(hist_sigmoid.history['accuracy'])\n",
        "plt.plot(hist_sigmoid.history['val_accuracy'])\n",
        "plt.title('Accuracy when training the model')\n",
        "plt.xlabel('Epoch')\n",
        "plt.ylabel('Accuracy')\n",
        "plt.legend(['Training accuracy', 'Validation accuracy']) #Table\n",
        "plt.show()"
      ],
      "execution_count": 11,
      "outputs": [
        {
          "output_type": "display_data",
          "data": {
            "image/png": "[encoded data removed]",
            "text/plain": [
              "<Figure size 432x288 with 1 Axes>"
            ]
          },
          "metadata": {
            "tags": [],
            "needs_background": "light"
          }
        }
      ]
    },
    {
      "cell_type": "markdown",
      "metadata": {
        "id": "3Dfu-B0JfMg9",
        "colab_type": "text"
      },
      "source": [
        "##2.2: Replace RELu by tanh\n",
        "\n",
        "\n"
      ]
    },
    {
      "cell_type": "code",
      "metadata": {
        "id": "14rrvztpfZBS",
        "colab_type": "code",
        "colab": {}
      },
      "source": [
        "class LeNet_tanh:\n",
        "  def __init__(self):\n",
        "    self.model = None\n",
        "\n",
        "  def build(self, input_dim):\n",
        "    input = Input(shape=input_dim)\n",
        "\n",
        "    #Convolution block\n",
        "    C1 = Conv2D(6, (3, 3), padding=\"same\", activation='tanh', use_bias=True)(input)\n",
        "    S2 = MaxPooling2D(pool_size=(2, 2), strides=2, padding=\"same\")(C1)\n",
        "    C3 = Conv2D(16, (5, 5), padding=\"same\", activation='tanh', use_bias=True)(S2)\n",
        "    S4 = MaxPooling2D(pool_size=(2, 2), strides=2, padding=\"same\")(C3)\n",
        "\n",
        "    #Fully connected block\n",
        "    flat = Flatten()(S4)\n",
        "    FC5 = Dense(120, activation='tanh', use_bias=True)(flat)\n",
        "    FC6 = Dense(84, activation='tanh', use_bias=True)(FC5)\n",
        "    output = Dense(10, activation='softmax', use_bias=True)(flat)\n",
        "\n",
        "    self.model = Model(input, output)\n",
        "    self.model.compile(optimizer=\"adam\", loss='categorical_crossentropy', metrics=['accuracy'])\n",
        "\n",
        "  def train(self, x_train, y_train):\n",
        "    history = self.model.fit(x_train, y_train, batch_size=128, epochs=20, validation_split=0.2)\n",
        "    return history\n",
        "  \n",
        "  def predict(self, x_test):\n",
        "    return self.model.predict(x_test)\n",
        "  \n",
        "  def summary(self):\n",
        "    self.model.summary()\n",
        "  \n",
        "  def load(self, model_file):\n",
        "    self.model = load_model(model_file)\n",
        "  \n",
        "  def save(self, model_file):\n",
        "    self.model.save(model_file)"
      ],
      "execution_count": 12,
      "outputs": []
    },
    {
      "cell_type": "code",
      "metadata": {
        "id": "AiFOYkWffipq",
        "colab_type": "code",
        "colab": {
          "base_uri": "https://localhost:8080/",
          "height": 1000
        },
        "outputId": "d755f2dc-2339-42c5-9f74-8f0a9b6657db"
      },
      "source": [
        "leNet_tanh = LeNet_tanh()\n",
        "leNet_tanh.build((28, 28, 1))\n",
        "leNet_tanh.summary()\n",
        "hist_tanh = leNet_tanh.train(x_train_norm, y_train_oh)"
      ],
      "execution_count": 13,
      "outputs": [
        {
          "output_type": "stream",
          "text": [
            "Model: \"functional_5\"\n",
            "_________________________________________________________________\n",
            "Layer (type)                 Output Shape              Param #   \n",
            "=================================================================\n",
            "input_3 (InputLayer)         [(None, 28, 28, 1)]       0         \n",
            "_________________________________________________________________\n",
            "conv2d_4 (Conv2D)            (None, 28, 28, 6)         60        \n",
            "_________________________________________________________________\n",
            "max_pooling2d_4 (MaxPooling2 (None, 14, 14, 6)         0         \n",
            "_________________________________________________________________\n",
            "conv2d_5 (Conv2D)            (None, 14, 14, 16)        2416      \n",
            "_________________________________________________________________\n",
            "max_pooling2d_5 (MaxPooling2 (None, 7, 7, 16)          0         \n",
            "_________________________________________________________________\n",
            "flatten_2 (Flatten)          (None, 784)               0         \n",
            "_________________________________________________________________\n",
            "dense_8 (Dense)              (None, 10)                7850      \n",
            "=================================================================\n",
            "Total params: 10,326\n",
            "Trainable params: 10,326\n",
            "Non-trainable params: 0\n",
            "_________________________________________________________________\n",
            "Epoch 1/20\n",
            "375/375 [==============================] - 26s 70ms/step - loss: 0.5210 - accuracy: 0.8608 - val_loss: 0.1851 - val_accuracy: 0.9500\n",
            "Epoch 2/20\n",
            "375/375 [==============================] - 26s 69ms/step - loss: 0.1523 - accuracy: 0.9554 - val_loss: 0.1166 - val_accuracy: 0.9688\n",
            "Epoch 3/20\n",
            "375/375 [==============================] - 26s 69ms/step - loss: 0.0997 - accuracy: 0.9717 - val_loss: 0.0855 - val_accuracy: 0.9752\n",
            "Epoch 4/20\n",
            "375/375 [==============================] - 26s 69ms/step - loss: 0.0769 - accuracy: 0.9780 - val_loss: 0.0718 - val_accuracy: 0.9793\n",
            "Epoch 5/20\n",
            "375/375 [==============================] - 26s 69ms/step - loss: 0.0639 - accuracy: 0.9817 - val_loss: 0.0652 - val_accuracy: 0.9807\n",
            "Epoch 6/20\n",
            "375/375 [==============================] - 26s 70ms/step - loss: 0.0551 - accuracy: 0.9842 - val_loss: 0.0590 - val_accuracy: 0.9818\n",
            "Epoch 7/20\n",
            "375/375 [==============================] - 26s 69ms/step - loss: 0.0489 - accuracy: 0.9859 - val_loss: 0.0563 - val_accuracy: 0.9824\n",
            "Epoch 8/20\n",
            "375/375 [==============================] - 26s 69ms/step - loss: 0.0435 - accuracy: 0.9876 - val_loss: 0.0528 - val_accuracy: 0.9837\n",
            "Epoch 9/20\n",
            "375/375 [==============================] - 26s 69ms/step - loss: 0.0399 - accuracy: 0.9884 - val_loss: 0.0496 - val_accuracy: 0.9840\n",
            "Epoch 10/20\n",
            "375/375 [==============================] - 26s 69ms/step - loss: 0.0357 - accuracy: 0.9898 - val_loss: 0.0468 - val_accuracy: 0.9858\n",
            "Epoch 11/20\n",
            "375/375 [==============================] - 26s 69ms/step - loss: 0.0327 - accuracy: 0.9907 - val_loss: 0.0469 - val_accuracy: 0.9858\n",
            "Epoch 12/20\n",
            "375/375 [==============================] - 26s 69ms/step - loss: 0.0299 - accuracy: 0.9913 - val_loss: 0.0444 - val_accuracy: 0.9861\n",
            "Epoch 13/20\n",
            "375/375 [==============================] - 26s 70ms/step - loss: 0.0275 - accuracy: 0.9919 - val_loss: 0.0471 - val_accuracy: 0.9856\n",
            "Epoch 14/20\n",
            "375/375 [==============================] - 26s 69ms/step - loss: 0.0255 - accuracy: 0.9929 - val_loss: 0.0475 - val_accuracy: 0.9858\n",
            "Epoch 15/20\n",
            "375/375 [==============================] - 26s 69ms/step - loss: 0.0241 - accuracy: 0.9932 - val_loss: 0.0452 - val_accuracy: 0.9859\n",
            "Epoch 16/20\n",
            "375/375 [==============================] - 26s 69ms/step - loss: 0.0220 - accuracy: 0.9939 - val_loss: 0.0443 - val_accuracy: 0.9872\n",
            "Epoch 17/20\n",
            "375/375 [==============================] - 26s 70ms/step - loss: 0.0200 - accuracy: 0.9947 - val_loss: 0.0439 - val_accuracy: 0.9868\n",
            "Epoch 18/20\n",
            "375/375 [==============================] - 26s 70ms/step - loss: 0.0188 - accuracy: 0.9954 - val_loss: 0.0431 - val_accuracy: 0.9870\n",
            "Epoch 19/20\n",
            "375/375 [==============================] - 26s 70ms/step - loss: 0.0175 - accuracy: 0.9957 - val_loss: 0.0421 - val_accuracy: 0.9873\n",
            "Epoch 20/20\n",
            "375/375 [==============================] - 26s 70ms/step - loss: 0.0160 - accuracy: 0.9957 - val_loss: 0.0438 - val_accuracy: 0.9864\n"
          ],
          "name": "stdout"
        }
      ]
    },
    {
      "cell_type": "code",
      "metadata": {
        "id": "6hb2fTTkfuQx",
        "colab_type": "code",
        "colab": {
          "base_uri": "https://localhost:8080/",
          "height": 295
        },
        "outputId": "17ba120a-3333-4405-b10a-43fc5c9a0d2d"
      },
      "source": [
        "plt.plot(hist_tanh.history['loss'])\n",
        "plt.plot(hist_tanh.history['val_loss'])\n",
        "plt.title('Loss history when training the model')\n",
        "plt.xlabel('Epoch')\n",
        "plt.ylabel('Loss')\n",
        "plt.legend(['Training loss', 'Validation loss']) #Table\n",
        "plt.show()"
      ],
      "execution_count": 14,
      "outputs": [
        {
          "output_type": "display_data",
          "data": {
            "image/png": "[encoded data removed]",
            "text/plain": [
              "<Figure size 432x288 with 1 Axes>"
            ]
          },
          "metadata": {
            "tags": [],
            "needs_background": "light"
          }
        }
      ]
    },
    {
      "cell_type": "code",
      "metadata": {
        "id": "MNq6IYH3f0SY",
        "colab_type": "code",
        "colab": {
          "base_uri": "https://localhost:8080/",
          "height": 295
        },
        "outputId": "e9934363-936a-4c36-c6e6-09bd15a94ecc"
      },
      "source": [
        "plt.plot(hist_tanh.history['accuracy'])\n",
        "plt.plot(hist_tanh.history['val_accuracy'])\n",
        "plt.title('Accuracy when training the model')\n",
        "plt.xlabel('Epoch')\n",
        "plt.ylabel('Accuracy')\n",
        "plt.legend(['Training accuracy', 'Validation accuracy']) #Table\n",
        "plt.show()"
      ],
      "execution_count": 15,
      "outputs": [
        {
          "output_type": "display_data",
          "data": {
            "image/png": "[encoded data removed]",
            "text/plain": [
              "<Figure size 432x288 with 1 Axes>"
            ]
          },
          "metadata": {
            "tags": [],
            "needs_background": "light"
          }
        }
      ]
    },
    {
      "cell_type": "markdown",
      "metadata": {
        "id": "MEp7iP3gf_yX",
        "colab_type": "text"
      },
      "source": [
        "# Task 3: Replace Adam optimizer by SGD optimizer"
      ]
    },
    {
      "cell_type": "code",
      "metadata": {
        "id": "FP8L3uNFgMvW",
        "colab_type": "code",
        "colab": {}
      },
      "source": [
        "from keras.layers import Input, Conv2D, Dense, MaxPooling2D, Flatten\n",
        "from keras import Model\n",
        "\n",
        "class LeNet_sgd:\n",
        "  def __init__(self):\n",
        "    self.model = None\n",
        "\n",
        "  def build(self, input_dim):\n",
        "    input = Input(shape=input_dim)\n",
        "\n",
        "    #Convolution block\n",
        "    C1 = Conv2D(6, (3, 3), padding=\"same\", activation='relu', use_bias=True)(input)\n",
        "    S2 = MaxPooling2D(pool_size=(2, 2), strides=2, padding=\"same\")(C1)\n",
        "    C3 = Conv2D(16, (5, 5), padding=\"same\", activation='relu', use_bias=True)(S2)\n",
        "    S4 = MaxPooling2D(pool_size=(2, 2), strides=2, padding=\"same\")(C3)\n",
        "\n",
        "    #Fully connected block\n",
        "    flat = Flatten()(S4)\n",
        "    FC5 = Dense(120, activation='relu', use_bias=True)(flat)\n",
        "    FC6 = Dense(84, activation='relu', use_bias=True)(FC5)\n",
        "    output = Dense(10, activation='softmax', use_bias=True)(flat)\n",
        "\n",
        "    self.model = Model(input, output)\n",
        "    self.model.compile(optimizer=\"sgd\", loss='categorical_crossentropy', metrics=['accuracy'])\n",
        "\n",
        "  def train(self, x_train, y_train):\n",
        "    history = self.model.fit(x_train, y_train, batch_size=128, epochs=20, validation_split=0.2)\n",
        "    return history\n",
        "  \n",
        "  def predict(self, x_test):\n",
        "    return self.model.predict(x_test)\n",
        "  \n",
        "  def summary(self):\n",
        "    self.model.summary()\n",
        "  \n",
        "  def load(self, model_file):\n",
        "    self.model = load_model(model_file)\n",
        "  \n",
        "  def save(self, model_file):\n",
        "    self.model.save(model_file)"
      ],
      "execution_count": 16,
      "outputs": []
    },
    {
      "cell_type": "code",
      "metadata": {
        "colab_type": "code",
        "id": "eF9uU4kYgYmN",
        "colab": {
          "base_uri": "https://localhost:8080/",
          "height": 1000
        },
        "outputId": "4c7fddf4-93c2-4540-d760-bbfe1e2f60a4"
      },
      "source": [
        "leNet_sgd = LeNet_sgd()\n",
        "leNet_sgd.build((28, 28, 1))\n",
        "leNet_sgd.summary()\n",
        "hist_sgd = leNet_sgd.train(x_train_norm, y_train_oh)"
      ],
      "execution_count": 17,
      "outputs": [
        {
          "output_type": "stream",
          "text": [
            "Model: \"functional_7\"\n",
            "_________________________________________________________________\n",
            "Layer (type)                 Output Shape              Param #   \n",
            "=================================================================\n",
            "input_4 (InputLayer)         [(None, 28, 28, 1)]       0         \n",
            "_________________________________________________________________\n",
            "conv2d_6 (Conv2D)            (None, 28, 28, 6)         60        \n",
            "_________________________________________________________________\n",
            "max_pooling2d_6 (MaxPooling2 (None, 14, 14, 6)         0         \n",
            "_________________________________________________________________\n",
            "conv2d_7 (Conv2D)            (None, 14, 14, 16)        2416      \n",
            "_________________________________________________________________\n",
            "max_pooling2d_7 (MaxPooling2 (None, 7, 7, 16)          0         \n",
            "_________________________________________________________________\n",
            "flatten_3 (Flatten)          (None, 784)               0         \n",
            "_________________________________________________________________\n",
            "dense_11 (Dense)             (None, 10)                7850      \n",
            "=================================================================\n",
            "Total params: 10,326\n",
            "Trainable params: 10,326\n",
            "Non-trainable params: 0\n",
            "_________________________________________________________________\n",
            "Epoch 1/20\n",
            "375/375 [==============================] - 26s 70ms/step - loss: 1.8826 - accuracy: 0.4801 - val_loss: 0.6764 - val_accuracy: 0.8364\n",
            "Epoch 2/20\n",
            "375/375 [==============================] - 26s 69ms/step - loss: 0.4411 - accuracy: 0.8781 - val_loss: 0.3037 - val_accuracy: 0.9112\n",
            "Epoch 3/20\n",
            "375/375 [==============================] - 26s 69ms/step - loss: 0.2887 - accuracy: 0.9159 - val_loss: 0.2348 - val_accuracy: 0.9319\n",
            "Epoch 4/20\n",
            "375/375 [==============================] - 26s 69ms/step - loss: 0.2335 - accuracy: 0.9324 - val_loss: 0.2107 - val_accuracy: 0.9382\n",
            "Epoch 5/20\n",
            "375/375 [==============================] - 26s 69ms/step - loss: 0.2016 - accuracy: 0.9406 - val_loss: 0.1773 - val_accuracy: 0.9482\n",
            "Epoch 6/20\n",
            "375/375 [==============================] - 26s 69ms/step - loss: 0.1787 - accuracy: 0.9463 - val_loss: 0.1629 - val_accuracy: 0.9512\n",
            "Epoch 7/20\n",
            "375/375 [==============================] - 26s 70ms/step - loss: 0.1608 - accuracy: 0.9524 - val_loss: 0.1470 - val_accuracy: 0.9584\n",
            "Epoch 8/20\n",
            "375/375 [==============================] - 26s 69ms/step - loss: 0.1472 - accuracy: 0.9565 - val_loss: 0.1365 - val_accuracy: 0.9606\n",
            "Epoch 9/20\n",
            "375/375 [==============================] - 26s 70ms/step - loss: 0.1365 - accuracy: 0.9593 - val_loss: 0.1309 - val_accuracy: 0.9600\n",
            "Epoch 10/20\n",
            "375/375 [==============================] - 26s 70ms/step - loss: 0.1273 - accuracy: 0.9623 - val_loss: 0.1229 - val_accuracy: 0.9620\n",
            "Epoch 11/20\n",
            "375/375 [==============================] - 26s 69ms/step - loss: 0.1194 - accuracy: 0.9642 - val_loss: 0.1212 - val_accuracy: 0.9629\n",
            "Epoch 12/20\n",
            "375/375 [==============================] - 26s 69ms/step - loss: 0.1134 - accuracy: 0.9661 - val_loss: 0.1153 - val_accuracy: 0.9636\n",
            "Epoch 13/20\n",
            "375/375 [==============================] - 26s 69ms/step - loss: 0.1077 - accuracy: 0.9673 - val_loss: 0.1086 - val_accuracy: 0.9675\n",
            "Epoch 14/20\n",
            "375/375 [==============================] - 26s 69ms/step - loss: 0.1029 - accuracy: 0.9691 - val_loss: 0.1054 - val_accuracy: 0.9676\n",
            "Epoch 15/20\n",
            "375/375 [==============================] - 26s 69ms/step - loss: 0.0990 - accuracy: 0.9700 - val_loss: 0.1037 - val_accuracy: 0.9683\n",
            "Epoch 16/20\n",
            "375/375 [==============================] - 26s 69ms/step - loss: 0.0950 - accuracy: 0.9708 - val_loss: 0.0989 - val_accuracy: 0.9697\n",
            "Epoch 17/20\n",
            "375/375 [==============================] - 26s 70ms/step - loss: 0.0919 - accuracy: 0.9723 - val_loss: 0.0952 - val_accuracy: 0.9707\n",
            "Epoch 18/20\n",
            "375/375 [==============================] - 26s 70ms/step - loss: 0.0889 - accuracy: 0.9736 - val_loss: 0.0917 - val_accuracy: 0.9716\n",
            "Epoch 19/20\n",
            "375/375 [==============================] - 26s 70ms/step - loss: 0.0857 - accuracy: 0.9743 - val_loss: 0.0921 - val_accuracy: 0.9722\n",
            "Epoch 20/20\n",
            "375/375 [==============================] - 26s 70ms/step - loss: 0.0833 - accuracy: 0.9744 - val_loss: 0.0886 - val_accuracy: 0.9729\n"
          ],
          "name": "stdout"
        }
      ]
    },
    {
      "cell_type": "code",
      "metadata": {
        "colab_type": "code",
        "id": "5PZBOi1bgYmS",
        "colab": {
          "base_uri": "https://localhost:8080/",
          "height": 295
        },
        "outputId": "9b8840b4-5aa2-4702-9406-132a850d6f49"
      },
      "source": [
        "plt.plot(hist_sgd.history['loss'])\n",
        "plt.plot(hist_sgd.history['val_loss'])\n",
        "plt.title('Loss history when training the model')\n",
        "plt.xlabel('Epoch')\n",
        "plt.ylabel('Loss')\n",
        "plt.legend(['Training loss', 'Validation loss']) #Table\n",
        "plt.show()"
      ],
      "execution_count": 18,
      "outputs": [
        {
          "output_type": "display_data",
          "data": {
            "image/png": "[encoded data removed]",
            "text/plain": [
              "<Figure size 432x288 with 1 Axes>"
            ]
          },
          "metadata": {
            "tags": [],
            "needs_background": "light"
          }
        }
      ]
    },
    {
      "cell_type": "code",
      "metadata": {
        "colab_type": "code",
        "id": "d8DaZ0uygYmW",
        "colab": {
          "base_uri": "https://localhost:8080/",
          "height": 295
        },
        "outputId": "188fc253-5410-4940-ca67-d9297d6c7a37"
      },
      "source": [
        "plt.plot(hist_sgd.history['accuracy'])\n",
        "plt.plot(hist_sgd.history['val_accuracy'])\n",
        "plt.title('Accuracy when training the model')\n",
        "plt.xlabel('Epoch')\n",
        "plt.ylabel('Accuracy')\n",
        "plt.legend(['Training accuracy', 'Validation accuracy']) #Table\n",
        "plt.show()"
      ],
      "execution_count": 19,
      "outputs": [
        {
          "output_type": "display_data",
          "data": {
            "image/png": "[encoded data removed]",
            "text/plain": [
              "<Figure size 432x288 with 1 Axes>"
            ]
          },
          "metadata": {
            "tags": [],
            "needs_background": "light"
          }
        }
      ]
    }
  ]
}