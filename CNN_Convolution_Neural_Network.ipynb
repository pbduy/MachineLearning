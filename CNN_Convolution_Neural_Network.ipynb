{
  "nbformat": 4,
  "nbformat_minor": 0,
  "metadata": {
    "colab": {
      "name": "CNN_Convolution_Neural_Network.ipynb",
      "provenance": [],
      "authorship_tag": "ABX9TyMZQidBGpHiZZRhBvH7G4Dz",
      "include_colab_link": true
    },
    "kernelspec": {
      "name": "python3",
      "display_name": "Python 3"
    },
    "accelerator": "GPU"
  },
  "cells": [
    {
      "cell_type": "markdown",
      "metadata": {
        "id": "view-in-github",
        "colab_type": "text"
      },
      "source": [
        "<a href=\"https://colab.research.google.com/github/pbduy/Machine_Learning/blob/master/CNN_Convolution_Neural_Network.ipynb\" target=\"_parent\"><img src=\"https://colab.research.google.com/assets/colab-badge.svg\" alt=\"Open In Colab\"/></a>"
      ]
    },
    {
      "cell_type": "code",
      "metadata": {
        "id": "Kd3JtbI3zC5l",
        "colab_type": "code",
        "colab": {}
      },
      "source": [
        "from keras.layers import Input, Conv2D, Dense, MaxPooling2D, Flatten\n",
        "from keras import Model\n",
        "\n",
        "class LeNet:\n",
        "  def __init__(self):\n",
        "    self.model = None\n",
        "\n",
        "  def build(self, input_dim):\n",
        "    input = Input(shape=input_dim)\n",
        "\n",
        "    #Convolution block\n",
        "    C1 = Conv2D(6, (3, 3), padding=\"same\", activation='relu', use_bias=True)(input)\n",
        "    S2 = MaxPooling2D(pool_size=(2, 2), strides=2, padding=\"same\")(C1)\n",
        "    C3 = Conv2D(16, (5, 5), padding=\"same\", activation='relu', use_bias=True)(S2)\n",
        "    S4 = MaxPooling2D(pool_size=(2, 2), strides=2, padding=\"same\")(C3)\n",
        "\n",
        "    #Fully connected block\n",
        "    flat = Flatten()(S4)\n",
        "    FC5 = Dense(120, activation='relu', use_bias=True)(flat)\n",
        "    FC6 = Dense(84, activation='relu', use_bias=True)(FC5)\n",
        "    output = Dense(10, activation='softmax', use_bias=True)(flat)\n",
        "\n",
        "    self.model = Model(input, output)\n",
        "    self.model.compile(optimizer=\"adam\", loss='categorical_crossentropy', metrics=['accuracy'])\n",
        "\n",
        "  def train(self, x_train, y_train):\n",
        "    history = self.model.fit(x_train, y_train, batch_size=128, epochs=20, validation_split=0.2)\n",
        "    return history\n",
        "  \n",
        "  def predict(self, x_test):\n",
        "    return self.model.predict(x_test)\n",
        "  \n",
        "  def summary(self):\n",
        "    self.model.summary()\n",
        "  \n",
        "  def load(self, model_file):\n",
        "    self.model = load_model(model_file)\n",
        "  \n",
        "  def save(self, model_file):\n",
        "    self.model.save(model_file)"
      ],
      "execution_count": 13,
      "outputs": []
    },
    {
      "cell_type": "code",
      "metadata": {
        "id": "9LKVuXfn-dFx",
        "colab_type": "code",
        "colab": {}
      },
      "source": [
        "#Prepare data\n",
        "from keras.datasets import mnist\n",
        "import numpy as np\n",
        "\n",
        "(x_train, y_train), (x_test, y_test) = mnist.load_data()\n",
        "\n",
        "#Normalize data\n",
        "x_train_norm = x_train / 255.0\n",
        "x_test_norm = x_test / 255.0\n",
        "\n",
        "#Convert to one-hot vector\n",
        "def onehot(y):\n",
        "  oh = np.zeros((y.shape[0], 10))\n",
        "  oh[np.arange(y.shape[0]), y] = 1\n",
        "  return oh\n",
        "\n",
        "y_train_oh = onehot(y_train)\n",
        "y_test_oh = onehot(y_test)"
      ],
      "execution_count": 14,
      "outputs": []
    },
    {
      "cell_type": "code",
      "metadata": {
        "id": "UQXx2EEpA553",
        "colab_type": "code",
        "colab": {
          "base_uri": "https://localhost:8080/",
          "height": 298
        },
        "outputId": "f97829c7-46b4-4dc1-80bb-39ce88bc74a9"
      },
      "source": [
        "import matplotlib.pyplot as plt\n",
        "\n",
        "index = 1234\n",
        "print(y_train_oh[index])\n",
        "plt.imshow(x_train_norm[index])\n",
        "print('Size of input: ', x_train_norm.shape)"
      ],
      "execution_count": 15,
      "outputs": [
        {
          "output_type": "stream",
          "text": [
            "[0. 0. 0. 1. 0. 0. 0. 0. 0. 0.]\n",
            "Size of input:  (60000, 28, 28)\n"
          ],
          "name": "stdout"
        },
        {
          "output_type": "display_data",
          "data": {
            "image/png": "[encoded data removed]",
            "text/plain": [
              "<Figure size 432x288 with 1 Axes>"
            ]
          },
          "metadata": {
            "tags": [],
            "needs_background": "light"
          }
        }
      ]
    },
    {
      "cell_type": "code",
      "metadata": {
        "id": "eWMKjt8AACtJ",
        "colab_type": "code",
        "colab": {
          "base_uri": "https://localhost:8080/",
          "height": 1000
        },
        "outputId": "ba8747a8-d436-4f64-dced-bef0ff8aaaee"
      },
      "source": [
        "leNet = LeNet()\n",
        "leNet.build((28, 28, 1))\n",
        "leNet.summary()\n",
        "hist = leNet.train(x_train_norm, y_train_oh)"
      ],
      "execution_count": 16,
      "outputs": [
        {
          "output_type": "stream",
          "text": [
            "Model: \"functional_5\"\n",
            "_________________________________________________________________\n",
            "Layer (type)                 Output Shape              Param #   \n",
            "=================================================================\n",
            "input_4 (InputLayer)         [(None, 28, 28, 1)]       0         \n",
            "_________________________________________________________________\n",
            "conv2d_5 (Conv2D)            (None, 28, 28, 6)         60        \n",
            "_________________________________________________________________\n",
            "max_pooling2d_4 (MaxPooling2 (None, 14, 14, 6)         0         \n",
            "_________________________________________________________________\n",
            "conv2d_6 (Conv2D)            (None, 14, 14, 16)        2416      \n",
            "_________________________________________________________________\n",
            "max_pooling2d_5 (MaxPooling2 (None, 7, 7, 16)          0         \n",
            "_________________________________________________________________\n",
            "flatten_2 (Flatten)          (None, 784)               0         \n",
            "_________________________________________________________________\n",
            "dense_8 (Dense)              (None, 10)                7850      \n",
            "=================================================================\n",
            "Total params: 10,326\n",
            "Trainable params: 10,326\n",
            "Non-trainable params: 0\n",
            "_________________________________________________________________\n",
            "Epoch 1/20\n",
            "375/375 [==============================] - 1s 4ms/step - loss: 0.4439 - accuracy: 0.8752 - val_loss: 0.1585 - val_accuracy: 0.9538\n",
            "Epoch 2/20\n",
            "375/375 [==============================] - 1s 3ms/step - loss: 0.1376 - accuracy: 0.9594 - val_loss: 0.1076 - val_accuracy: 0.9689\n",
            "Epoch 3/20\n",
            "375/375 [==============================] - 1s 4ms/step - loss: 0.0981 - accuracy: 0.9703 - val_loss: 0.0855 - val_accuracy: 0.9746\n",
            "Epoch 4/20\n",
            "375/375 [==============================] - 1s 3ms/step - loss: 0.0792 - accuracy: 0.9760 - val_loss: 0.0840 - val_accuracy: 0.9747\n",
            "Epoch 5/20\n",
            "375/375 [==============================] - 1s 3ms/step - loss: 0.0667 - accuracy: 0.9797 - val_loss: 0.0656 - val_accuracy: 0.9788\n",
            "Epoch 6/20\n",
            "375/375 [==============================] - 1s 3ms/step - loss: 0.0597 - accuracy: 0.9816 - val_loss: 0.0664 - val_accuracy: 0.9795\n",
            "Epoch 7/20\n",
            "375/375 [==============================] - 1s 3ms/step - loss: 0.0522 - accuracy: 0.9836 - val_loss: 0.0610 - val_accuracy: 0.9808\n",
            "Epoch 8/20\n",
            "375/375 [==============================] - 1s 3ms/step - loss: 0.0483 - accuracy: 0.9854 - val_loss: 0.0619 - val_accuracy: 0.9815\n",
            "Epoch 9/20\n",
            "375/375 [==============================] - 1s 3ms/step - loss: 0.0440 - accuracy: 0.9860 - val_loss: 0.0573 - val_accuracy: 0.9818\n",
            "Epoch 10/20\n",
            "375/375 [==============================] - 1s 3ms/step - loss: 0.0398 - accuracy: 0.9883 - val_loss: 0.0670 - val_accuracy: 0.9785\n",
            "Epoch 11/20\n",
            "375/375 [==============================] - 1s 3ms/step - loss: 0.0375 - accuracy: 0.9884 - val_loss: 0.0567 - val_accuracy: 0.9828\n",
            "Epoch 12/20\n",
            "375/375 [==============================] - 1s 3ms/step - loss: 0.0347 - accuracy: 0.9892 - val_loss: 0.0580 - val_accuracy: 0.9823\n",
            "Epoch 13/20\n",
            "375/375 [==============================] - 1s 3ms/step - loss: 0.0328 - accuracy: 0.9897 - val_loss: 0.0537 - val_accuracy: 0.9832\n",
            "Epoch 14/20\n",
            "375/375 [==============================] - 1s 3ms/step - loss: 0.0302 - accuracy: 0.9901 - val_loss: 0.0507 - val_accuracy: 0.9854\n",
            "Epoch 15/20\n",
            "375/375 [==============================] - 1s 3ms/step - loss: 0.0281 - accuracy: 0.9915 - val_loss: 0.0589 - val_accuracy: 0.9827\n",
            "Epoch 16/20\n",
            "375/375 [==============================] - 1s 3ms/step - loss: 0.0259 - accuracy: 0.9914 - val_loss: 0.0515 - val_accuracy: 0.9837\n",
            "Epoch 17/20\n",
            "375/375 [==============================] - 1s 3ms/step - loss: 0.0256 - accuracy: 0.9915 - val_loss: 0.0615 - val_accuracy: 0.9829\n",
            "Epoch 18/20\n",
            "375/375 [==============================] - 1s 3ms/step - loss: 0.0240 - accuracy: 0.9923 - val_loss: 0.0591 - val_accuracy: 0.9836\n",
            "Epoch 19/20\n",
            "375/375 [==============================] - 1s 3ms/step - loss: 0.0236 - accuracy: 0.9922 - val_loss: 0.0569 - val_accuracy: 0.9835\n",
            "Epoch 20/20\n",
            "375/375 [==============================] - 1s 3ms/step - loss: 0.0212 - accuracy: 0.9929 - val_loss: 0.0561 - val_accuracy: 0.9842\n"
          ],
          "name": "stdout"
        }
      ]
    },
    {
      "cell_type": "code",
      "metadata": {
        "id": "NOEYLdl1FrKU",
        "colab_type": "code",
        "colab": {
          "base_uri": "https://localhost:8080/",
          "height": 295
        },
        "outputId": "dc4a9589-5f21-4f31-c13e-2fa757331386"
      },
      "source": [
        "plt.plot(hist.history['loss'])\n",
        "plt.plot(hist.history['val_loss'])\n",
        "plt.title('Loss history when training the model')\n",
        "plt.xlabel('Epoch')\n",
        "plt.ylabel('Loss')\n",
        "plt.legend(['Training loss', 'Validation loss']) #Table\n",
        "plt.show()"
      ],
      "execution_count": 17,
      "outputs": [
        {
          "output_type": "display_data",
          "data": {
            "image/png": "[encoded data removed]",
            "text/plain": [
              "<Figure size 432x288 with 1 Axes>"
            ]
          },
          "metadata": {
            "tags": [],
            "needs_background": "light"
          }
        }
      ]
    },
    {
      "cell_type": "code",
      "metadata": {
        "id": "gi0BrhCXIgyh",
        "colab_type": "code",
        "colab": {
          "base_uri": "https://localhost:8080/",
          "height": 295
        },
        "outputId": "a1ca516f-e18d-4812-da8b-c0195515e9cd"
      },
      "source": [
        "plt.plot(hist.history['accuracy'])\n",
        "plt.plot(hist.history['val_accuracy'])\n",
        "plt.title('Accuracy when training the model')\n",
        "plt.xlabel('Epoch')\n",
        "plt.ylabel('Accuracy')\n",
        "plt.legend(['Training accuracy', 'Validation accuracy']) #Table\n",
        "plt.show()"
      ],
      "execution_count": 19,
      "outputs": [
        {
          "output_type": "display_data",
          "data": {
            "image/png": "[encoded data removed]",
            "text/plain": [
              "<Figure size 432x288 with 1 Axes>"
            ]
          },
          "metadata": {
            "tags": [],
            "needs_background": "light"
          }
        }
      ]
    },
    {
      "cell_type": "code",
      "metadata": {
        "id": "NHlDYVATGSV5",
        "colab_type": "code",
        "colab": {
          "base_uri": "https://localhost:8080/",
          "height": 298
        },
        "outputId": "0a3f34ed-ccce-4736-fc0b-d93215f8e21f"
      },
      "source": [
        "test_index = 100\n",
        "plt.imshow(x_test_norm[test_index])\n",
        "plt.show()\n",
        "predict_label = leNet.predict(x_test_norm)\n",
        "\n",
        "print('Predicted label of the first test sample: ', np.argmax(predict_label[test_index]))\n",
        "print('Ground-truth of the', test_index,'-th sample: ', y_test[test_index])"
      ],
      "execution_count": 18,
      "outputs": [
        {
          "output_type": "display_data",
          "data": {
            "image/png": "[encoded data removed]",
            "text/plain": [
              "<Figure size 432x288 with 1 Axes>"
            ]
          },
          "metadata": {
            "tags": [],
            "needs_background": "light"
          }
        },
        {
          "output_type": "stream",
          "text": [
            "Predicted label of the first test sample:  6\n",
            "Ground-truth of the 100 -th sample:  6\n"
          ],
          "name": "stdout"
        }
      ]
    }
  ]
}