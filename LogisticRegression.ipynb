{
  "nbformat": 4,
  "nbformat_minor": 0,
  "metadata": {
    "colab": {
      "name": "LogisticRegression.ipynb",
      "provenance": [],
      "toc_visible": true,
      "authorship_tag": "ABX9TyPlCP8Li8mv3GRjAoJmNnu1",
      "include_colab_link": true
    },
    "kernelspec": {
      "name": "python3",
      "display_name": "Python 3"
    }
  },
  "cells": [
    {
      "cell_type": "markdown",
      "metadata": {
        "id": "view-in-github",
        "colab_type": "text"
      },
      "source": [
        "<a href=\"https://colab.research.google.com/github/pbduy/MachineLearning/blob/master/LogisticRegression.ipynb\" target=\"_parent\"><img src=\"https://colab.research.google.com/assets/colab-badge.svg\" alt=\"Open In Colab\"/></a>"
      ]
    },
    {
      "cell_type": "code",
      "metadata": {
        "id": "F3OkDJv8zACL",
        "colab_type": "code",
        "colab": {
          "base_uri": "https://localhost:8080/",
          "height": 34
        },
        "outputId": "e071c05b-eccb-4094-b165-65a24ea756b0"
      },
      "source": [
        "import numpy as np\n",
        "means = [[2, 2], [4, 2]]\n",
        "cov = [[1, 0], [0, 1]]\n",
        "N = 20\n",
        "X0 = np.random.multivariate_normal(means[0], cov, N)\n",
        "y0 = np.zeros(N)\n",
        "X1 = np.random.multivariate_normal(means[1], cov, N)\n",
        "y1 = np.ones(N)\n",
        "\n",
        "x = np.concatenate([X0, X1])\n",
        "y = np.concatenate([y0, y1])\n",
        "indices = np.arange(2*N)\n",
        "np.random.shuffle(indices)\n",
        "x = x[indices]\n",
        "y = y[indices]\n",
        "print(x.shape, y.shape)"
      ],
      "execution_count": 2,
      "outputs": [
        {
          "output_type": "stream",
          "text": [
            "(40, 2) (40,)\n"
          ],
          "name": "stdout"
        }
      ]
    },
    {
      "cell_type": "code",
      "metadata": {
        "id": "TlZxHezW0Ija",
        "colab_type": "code",
        "colab": {
          "base_uri": "https://localhost:8080/",
          "height": 265
        },
        "outputId": "6423996b-6f68-4d02-edd8-569c70fec2ca"
      },
      "source": [
        "from matplotlib import pyplot as plt\n",
        "plt.scatter(x[y==0][:, 0], x[y==0][:, 1], c = 'r', marker ='^')\n",
        "plt.scatter(x[y==1][:, 0], x[y==1][:, 1], c = 'g', marker ='o')\n",
        "plt.show()"
      ],
      "execution_count": 5,
      "outputs": [
        {
          "output_type": "display_data",
          "data": {
            "image/png": "[encoded data removed]",
            "text/plain": [
              "<Figure size 432x288 with 1 Axes>"
            ]
          },
          "metadata": {
            "tags": [],
            "needs_background": "light"
          }
        }
      ]
    },
    {
      "cell_type": "code",
      "metadata": {
        "id": "Vadsjrka07J_",
        "colab_type": "code",
        "colab": {
          "base_uri": "https://localhost:8080/",
          "height": 34
        },
        "outputId": "d23158fd-faef-4129-9719-03f5ef458ce9"
      },
      "source": [
        "from sklearn.linear_model import LogisticRegression\n",
        "model = LogisticRegression()\n",
        "model.fit(x,y)\n",
        "w0, w1, w2 = model.intercept_, model.coef_[0,0], model.coef_[0, 1]\n",
        "print(model.intercept_, model.coef_)"
      ],
      "execution_count": 7,
      "outputs": [
        {
          "output_type": "stream",
          "text": [
            "[-4.25266835] [[ 1.61524232 -0.2026819 ]]\n"
          ],
          "name": "stdout"
        }
      ]
    },
    {
      "cell_type": "code",
      "metadata": {
        "id": "tzaFhdTn1vDL",
        "colab_type": "code",
        "colab": {
          "base_uri": "https://localhost:8080/",
          "height": 265
        },
        "outputId": "a6626686-d362-4031-d813-4210e8579511"
      },
      "source": [
        "plt.scatter(x[y==0][:, 0], x[y==0][:, 1], c = 'r', marker ='^')\n",
        "plt.scatter(x[y==1][:, 0], x[y==1][:, 1], c = 'g', marker ='o')\n",
        "plt.plot(x[:, 0], -x[:, 0]*w1/w2 - w0/w2)\n",
        "plt.xlim(x[:, 0].min(), x[:, 0].max())\n",
        "plt.ylim(x[:, 1].min(), x[:, 1].max())\n",
        "plt.show()"
      ],
      "execution_count": 8,
      "outputs": [
        {
          "output_type": "display_data",
          "data": {
            "image/png": "[encoded data removed]",
            "text/plain": [
              "<Figure size 432x288 with 1 Axes>"
            ]
          },
          "metadata": {
            "tags": [],
            "needs_background": "light"
          }
        }
      ]
    }
  ]
}