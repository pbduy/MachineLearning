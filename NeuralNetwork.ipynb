{
  "nbformat": 4,
  "nbformat_minor": 0,
  "metadata": {
    "colab": {
      "name": "NeuralNetwork.ipynb",
      "provenance": [],
      "collapsed_sections": [],
      "toc_visible": true,
      "authorship_tag": "ABX9TyOnqvFdoaQ+9Ytl/+FQXSsn",
      "include_colab_link": true
    },
    "kernelspec": {
      "name": "python3",
      "display_name": "Python 3"
    }
  },
  "cells": [
    {
      "cell_type": "markdown",
      "metadata": {
        "id": "view-in-github",
        "colab_type": "text"
      },
      "source": [
        "<a href=\"https://colab.research.google.com/github/pbduy/Machine_Learning/blob/master/NeuralNetwork.ipynb\" target=\"_parent\"><img src=\"https://colab.research.google.com/assets/colab-badge.svg\" alt=\"Open In Colab\"/></a>"
      ]
    },
    {
      "cell_type": "markdown",
      "metadata": {
        "id": "CudPq1we3hDB",
        "colab_type": "text"
      },
      "source": [
        "Import classes and functions in Keras for building models."
      ]
    },
    {
      "cell_type": "code",
      "metadata": {
        "id": "sh462ur62K0v",
        "colab_type": "code",
        "colab": {}
      },
      "source": [
        "from keras.layers import Input, Dense\n",
        "from keras.models import Model, load_model"
      ],
      "execution_count": 1,
      "outputs": []
    },
    {
      "cell_type": "markdown",
      "metadata": {
        "id": "thyqq6rr33Ll",
        "colab_type": "text"
      },
      "source": [
        "Prepare training and testing dataset using mnist from Keras"
      ]
    },
    {
      "cell_type": "code",
      "metadata": {
        "id": "DISRnydh32SV",
        "colab_type": "code",
        "colab": {
          "base_uri": "https://localhost:8080/",
          "height": 118
        },
        "outputId": "d20abb05-611d-48cd-ce40-0b9a0727f0b0"
      },
      "source": [
        "from keras.datasets import mnist\n",
        "(x_train, y_train), (x_test, y_test) = mnist.load_data()\n",
        "\n",
        "print(x_train.shape)\n",
        "print(y_train.shape)\n",
        "print(x_test.shape)\n",
        "print(y_test.shape)"
      ],
      "execution_count": 2,
      "outputs": [
        {
          "output_type": "stream",
          "text": [
            "Downloading data from https://storage.googleapis.com/tensorflow/tf-keras-datasets/mnist.npz\n",
            "11493376/11490434 [==============================] - 0s 0us/step\n",
            "(60000, 28, 28)\n",
            "(60000,)\n",
            "(10000, 28, 28)\n",
            "(10000,)\n"
          ],
          "name": "stdout"
        }
      ]
    },
    {
      "cell_type": "markdown",
      "metadata": {
        "id": "gmSUNU5F5Rxo",
        "colab_type": "text"
      },
      "source": [
        "Visualize a training sample and the ground-truth label."
      ]
    },
    {
      "cell_type": "code",
      "metadata": {
        "id": "70Kw-PCW4o0b",
        "colab_type": "code",
        "colab": {
          "base_uri": "https://localhost:8080/",
          "height": 282
        },
        "outputId": "22ac5bd2-98ed-4e1a-d24d-febe111abc92"
      },
      "source": [
        "import matplotlib.pyplot as plt\n",
        "\n",
        "index = 12345\n",
        "plt.imshow(x_train[index])\n",
        "plt.show()\n",
        "print(\"Label of the\", index, \"-th sample is: \", y_train[index])"
      ],
      "execution_count": 4,
      "outputs": [
        {
          "output_type": "display_data",
          "data": {
            "image/png": "[encoded data removed]",
            "text/plain": [
              "<Figure size 432x288 with 1 Axes>"
            ]
          },
          "metadata": {
            "tags": [],
            "needs_background": "light"
          }
        },
        {
          "output_type": "stream",
          "text": [
            "Label of the 12345 -th sample is:  3\n"
          ],
          "name": "stdout"
        }
      ]
    },
    {
      "cell_type": "markdown",
      "metadata": {
        "id": "fmdSRkJD5dAA",
        "colab_type": "text"
      },
      "source": [
        "Normalize input date from matrix *28 x 28* to a vector *784 x 1*.\n",
        "Then, convert the ground-truth labels to one-hot vectors.\n",
        "\n"
      ]
    },
    {
      "cell_type": "code",
      "metadata": {
        "id": "lgHAJYHp5cFQ",
        "colab_type": "code",
        "colab": {}
      },
      "source": [
        "from sklearn import preprocessing\n",
        "import numpy as np\n",
        "\n",
        "nsample_train, h, w = x_train.shape\n",
        "nsample_test, h, w = x_test.shape\n",
        "\n",
        "def onehot(y):\n",
        "  nsample = len(y)\n",
        "  oh = np.zeros((nsample, 10))\n",
        "  oh[np.arange(nsample), y] = 1\n",
        "  return oh\n",
        "\n",
        "y_train_oh = onehot(y_train)\n",
        "y_test_oh = onehot(y_test)\n",
        "\n",
        "x_train_norm = (x_train.astype('float32')) / 255.0\n",
        "x_test_norm = (x_test.astype('float32')) / 255.0\n",
        "\n",
        "x_train_vec = x_train_norm.reshape(nsample_train, 28 * 28)\n",
        "x_test_vec = x_test_norm.reshape(nsample_test, 28 * 28)"
      ],
      "execution_count": 8,
      "outputs": []
    },
    {
      "cell_type": "markdown",
      "metadata": {
        "id": "CS2IXs-o98MA",
        "colab_type": "text"
      },
      "source": [
        "Double-check the training sample and ground-truth one-hot vector."
      ]
    },
    {
      "cell_type": "code",
      "metadata": {
        "id": "Pn1P2aKD97tc",
        "colab_type": "code",
        "colab": {
          "base_uri": "https://localhost:8080/",
          "height": 50
        },
        "outputId": "e1442e01-c431-466b-f3a1-01cdbd2cd58a"
      },
      "source": [
        "indexx = 1234\n",
        "print('Shape of training sample: ', x_train_vec[indexx].shape)\n",
        "print('The one-hot vector of the', indexx,'-th sample:', y_train_oh[indexx])"
      ],
      "execution_count": 9,
      "outputs": [
        {
          "output_type": "stream",
          "text": [
            "Shape of training sample:  (784,)\n",
            "The one-hot vector of the 1234 -th sample: [0. 0. 0. 1. 0. 0. 0. 0. 0. 0.]\n"
          ],
          "name": "stdout"
        }
      ]
    },
    {
      "cell_type": "markdown",
      "metadata": {
        "id": "OXrfTr0s-ytc",
        "colab_type": "text"
      },
      "source": [
        "Create a class for Neural Network model with 7 function: \\_\\_init__ (contructor), build (structure, train (with data), load from file, save (to file), summary (the structure), predict(test data)."
      ]
    },
    {
      "cell_type": "code",
      "metadata": {
        "id": "6x-YreNo-mf2",
        "colab_type": "code",
        "colab": {}
      },
      "source": [
        "class NeuralNet:\n",
        "  def __init__(self):\n",
        "    self.model = None\n",
        "  def build(self, input_dim):\n",
        "    input = Input(shape = (input_dim,))\n",
        "    fc1 = Dense(512, activation='sigmoid', use_bias = True)(input)\n",
        "    fc2 = Dense(128, activation='sigmoid', use_bias = True)(fc1)\n",
        "    fc3 = Dense(10, activation='sigmoid', use_bias = True)(fc2)\n",
        "    self.model = Model(input, fc3)\n",
        "    self.model.compile(optimizer = 'adam', loss='categorical_crossentropy')\n",
        "\n",
        "  def load(self, model_file):\n",
        "    self.model = load_model(model_file)\n",
        "\n",
        "  def save(self, model_file):\n",
        "    self.model.save(model_file)\n",
        "  \n",
        "  def train(self, x_train, y_train, x_test, y_test):\n",
        "    history = self.model.fit(x_train, y_train, validation_data=(x_test,y_test), epochs = 20, batch_size=128)\n",
        "    return history\n",
        "  \n",
        "  def summary(self):\n",
        "    self.model.summary()\n",
        "  \n",
        "  def predict(self, x_test):\n",
        "    return self.model.predict(x_test)"
      ],
      "execution_count": 10,
      "outputs": []
    },
    {
      "cell_type": "code",
      "metadata": {
        "id": "XQ4SchyHB0JT",
        "colab_type": "code",
        "colab": {
          "base_uri": "https://localhost:8080/",
          "height": 689
        },
        "outputId": "9f38e865-c232-415a-9e9a-1bda0505db3f"
      },
      "source": [
        "nn = NeuralNet()\n",
        "nn.build(784)\n",
        "hist = nn.train(x_train_vec, y_train_oh, x_test_vec, y_test_oh)"
      ],
      "execution_count": 11,
      "outputs": [
        {
          "output_type": "stream",
          "text": [
            "Epoch 1/20\n",
            "469/469 [==============================] - 4s 9ms/step - loss: 0.5796 - val_loss: 0.2561\n",
            "Epoch 2/20\n",
            "469/469 [==============================] - 4s 8ms/step - loss: 0.2162 - val_loss: 0.1804\n",
            "Epoch 3/20\n",
            "469/469 [==============================] - 4s 8ms/step - loss: 0.1571 - val_loss: 0.1429\n",
            "Epoch 4/20\n",
            "469/469 [==============================] - 4s 8ms/step - loss: 0.1197 - val_loss: 0.1156\n",
            "Epoch 5/20\n",
            "469/469 [==============================] - 4s 8ms/step - loss: 0.0933 - val_loss: 0.0945\n",
            "Epoch 6/20\n",
            "469/469 [==============================] - 4s 9ms/step - loss: 0.0747 - val_loss: 0.0908\n",
            "Epoch 7/20\n",
            "469/469 [==============================] - 4s 8ms/step - loss: 0.0600 - val_loss: 0.0778\n",
            "Epoch 8/20\n",
            "469/469 [==============================] - 4s 8ms/step - loss: 0.0493 - val_loss: 0.0732\n",
            "Epoch 9/20\n",
            "469/469 [==============================] - 4s 8ms/step - loss: 0.0394 - val_loss: 0.0685\n",
            "Epoch 10/20\n",
            "469/469 [==============================] - 4s 8ms/step - loss: 0.0314 - val_loss: 0.0683\n",
            "Epoch 11/20\n",
            "469/469 [==============================] - 4s 8ms/step - loss: 0.0256 - val_loss: 0.0635\n",
            "Epoch 12/20\n",
            "469/469 [==============================] - 4s 8ms/step - loss: 0.0201 - val_loss: 0.0640\n",
            "Epoch 13/20\n",
            "469/469 [==============================] - 4s 8ms/step - loss: 0.0165 - val_loss: 0.0642\n",
            "Epoch 14/20\n",
            "469/469 [==============================] - 4s 8ms/step - loss: 0.0130 - val_loss: 0.0663\n",
            "Epoch 15/20\n",
            "469/469 [==============================] - 4s 9ms/step - loss: 0.0099 - val_loss: 0.0614\n",
            "Epoch 16/20\n",
            "469/469 [==============================] - 4s 9ms/step - loss: 0.0086 - val_loss: 0.0698\n",
            "Epoch 17/20\n",
            "469/469 [==============================] - 4s 9ms/step - loss: 0.0066 - val_loss: 0.0675\n",
            "Epoch 18/20\n",
            "469/469 [==============================] - 4s 9ms/step - loss: 0.0051 - val_loss: 0.0734\n",
            "Epoch 19/20\n",
            "469/469 [==============================] - 4s 9ms/step - loss: 0.0048 - val_loss: 0.0796\n",
            "Epoch 20/20\n",
            "469/469 [==============================] - 4s 8ms/step - loss: 0.0034 - val_loss: 0.0729\n"
          ],
          "name": "stdout"
        }
      ]
    },
    {
      "cell_type": "code",
      "metadata": {
        "id": "6w7XRWvuCgRQ",
        "colab_type": "code",
        "colab": {
          "base_uri": "https://localhost:8080/",
          "height": 295
        },
        "outputId": "ad608b67-c0b0-4d56-c43b-b3bf95ed77a8"
      },
      "source": [
        "plt.plot(hist.history['loss'])\n",
        "plt.plot(hist.history['val_loss'])\n",
        "plt.title('Loss history when training the model')\n",
        "plt.xlabel('Epoch')\n",
        "plt.ylabel('Loss')\n",
        "plt.legend(['Training loss', 'Validation loss']) #Table\n",
        "plt.show()"
      ],
      "execution_count": 13,
      "outputs": [
        {
          "output_type": "display_data",
          "data": {
            "image/png": "[encoded data removed]",
            "text/plain": [
              "<Figure size 432x288 with 1 Axes>"
            ]
          },
          "metadata": {
            "tags": [],
            "needs_background": "light"
          }
        }
      ]
    },
    {
      "cell_type": "code",
      "metadata": {
        "id": "nbuBoVEPDrx5",
        "colab_type": "code",
        "colab": {
          "base_uri": "https://localhost:8080/",
          "height": 298
        },
        "outputId": "953ee56c-a220-4b9b-b910-a61ef9024dab"
      },
      "source": [
        "test_index = 100\n",
        "plt.imshow(x_test[test_index])\n",
        "plt.show()\n",
        "predict_label = nn.predict(x_test_vec)\n",
        "\n",
        "print('Predicted label of the first test sample: ', np.argmax(predict_label[test_index]))\n",
        "print('Ground-truth of the', test_index,'-th sample: ', y_test[test_index])"
      ],
      "execution_count": 16,
      "outputs": [
        {
          "output_type": "display_data",
          "data": {
            "image/png": "[encoded data removed]",
            "text/plain": [
              "<Figure size 432x288 with 1 Axes>"
            ]
          },
          "metadata": {
            "tags": [],
            "needs_background": "light"
          }
        },
        {
          "output_type": "stream",
          "text": [
            "Predicted label of the first test sample:  6\n",
            "Ground-truth of the 100 -th sample:  6\n"
          ],
          "name": "stdout"
        }
      ]
    },
    {
      "cell_type": "markdown",
      "metadata": {
        "id": "gBNUBa5HFAnK",
        "colab_type": "text"
      },
      "source": [
        "To use *save* and *load*, follow these steps below:\n",
        "\n",
        "```\n",
        "# First, re-run the NeuralNetwork code block before running the following line of code\n",
        "nn.save('pre-trained model.h5')\n",
        "!ls #show file\n",
        "\n",
        "new_model = NeuralNet()\n",
        "new_model.load('pre-trained model.h5')\n",
        "\n",
        "# Visualize the test data\n",
        "test_index = 1234\n",
        "plt.imshow(x_test[test_index])\n",
        "plt.show()\n",
        "\n",
        "# Test with the loaded NN model\n",
        "predict_label = new_model.predict(x_test_vec)\n",
        "\n",
        "print('Predicted label of the first test sample: ', np.argmax(predict_label[test_index]))\n",
        "print('Ground-truth of the', test_index,'-th sample: ', y_test[test_index])\n",
        "```\n",
        "\n"
      ]
    },
    {
      "cell_type": "markdown",
      "metadata": {
        "id": "fRBn9xy6HRLJ",
        "colab_type": "text"
      },
      "source": [
        "# Test_case_1: Number of neurons very small."
      ]
    },
    {
      "cell_type": "code",
      "metadata": {
        "id": "8d9x5fx8HRiZ",
        "colab_type": "code",
        "colab": {}
      },
      "source": [
        "class NeuralNet_1:\n",
        "  def __init__(self):\n",
        "    self.model = None\n",
        "  def build(self, input_dim):\n",
        "    input = Input(shape = (input_dim,))\n",
        "    fc1 = Dense(2, activation='sigmoid', use_bias = True)(input)\n",
        "    fc2 = Dense(2, activation='sigmoid', use_bias = True)(fc1)\n",
        "    fc3 = Dense(10, activation='sigmoid', use_bias = True)(fc2)\n",
        "    self.model = Model(input, fc3)\n",
        "    self.model.compile(optimizer = 'adam', loss='categorical_crossentropy')\n",
        "\n",
        "  def load(self, model_file):\n",
        "    self.model = load_model(model_file)\n",
        "\n",
        "  def save(self, model_file):\n",
        "    self.model.save(model_file)\n",
        "  \n",
        "  def train(self, x_train, y_train, x_test, y_test):\n",
        "    history = self.model.fit(x_train, y_train, validation_data=(x_test,y_test), epochs = 20, batch_size=128)\n",
        "    return history\n",
        "  \n",
        "  def summary(self):\n",
        "    self.model.summary()\n",
        "  \n",
        "  def predict(self, x_test):\n",
        "    return self.model.predict(x_test)"
      ],
      "execution_count": 19,
      "outputs": []
    },
    {
      "cell_type": "code",
      "metadata": {
        "id": "P7I6maHGH-89",
        "colab_type": "code",
        "colab": {
          "base_uri": "https://localhost:8080/",
          "height": 689
        },
        "outputId": "01faf3d2-bb40-40f2-ca68-afbba64a6d65"
      },
      "source": [
        "nn1 = NeuralNet_1()\n",
        "nn1.build(784)\n",
        "hist = nn1.train(x_train_vec, y_train_oh, x_test_vec, y_test_oh)"
      ],
      "execution_count": 21,
      "outputs": [
        {
          "output_type": "stream",
          "text": [
            "Epoch 1/20\n",
            "469/469 [==============================] - 1s 2ms/step - loss: 2.2794 - val_loss: 2.2506\n",
            "Epoch 2/20\n",
            "469/469 [==============================] - 1s 2ms/step - loss: 2.2095 - val_loss: 2.1579\n",
            "Epoch 3/20\n",
            "469/469 [==============================] - 1s 2ms/step - loss: 2.0999 - val_loss: 2.0349\n",
            "Epoch 4/20\n",
            "469/469 [==============================] - 1s 2ms/step - loss: 1.9772 - val_loss: 1.9144\n",
            "Epoch 5/20\n",
            "469/469 [==============================] - 1s 2ms/step - loss: 1.8678 - val_loss: 1.8146\n",
            "Epoch 6/20\n",
            "469/469 [==============================] - 1s 2ms/step - loss: 1.7804 - val_loss: 1.7358\n",
            "Epoch 7/20\n",
            "469/469 [==============================] - 1s 2ms/step - loss: 1.7095 - val_loss: 1.6707\n",
            "Epoch 8/20\n",
            "469/469 [==============================] - 1s 2ms/step - loss: 1.6483 - val_loss: 1.6127\n",
            "Epoch 9/20\n",
            "469/469 [==============================] - 1s 2ms/step - loss: 1.5944 - val_loss: 1.5630\n",
            "Epoch 10/20\n",
            "469/469 [==============================] - 1s 2ms/step - loss: 1.5461 - val_loss: 1.5177\n",
            "Epoch 11/20\n",
            "469/469 [==============================] - 1s 2ms/step - loss: 1.5024 - val_loss: 1.4788\n",
            "Epoch 12/20\n",
            "469/469 [==============================] - 1s 2ms/step - loss: 1.4651 - val_loss: 1.4467\n",
            "Epoch 13/20\n",
            "469/469 [==============================] - 1s 2ms/step - loss: 1.4355 - val_loss: 1.4205\n",
            "Epoch 14/20\n",
            "469/469 [==============================] - 1s 2ms/step - loss: 1.4118 - val_loss: 1.4011\n",
            "Epoch 15/20\n",
            "469/469 [==============================] - 1s 2ms/step - loss: 1.3919 - val_loss: 1.3830\n",
            "Epoch 16/20\n",
            "469/469 [==============================] - 1s 2ms/step - loss: 1.3754 - val_loss: 1.3693\n",
            "Epoch 17/20\n",
            "469/469 [==============================] - 1s 2ms/step - loss: 1.3612 - val_loss: 1.3551\n",
            "Epoch 18/20\n",
            "469/469 [==============================] - 1s 2ms/step - loss: 1.3489 - val_loss: 1.3442\n",
            "Epoch 19/20\n",
            "469/469 [==============================] - 1s 2ms/step - loss: 1.3379 - val_loss: 1.3341\n",
            "Epoch 20/20\n",
            "469/469 [==============================] - 1s 2ms/step - loss: 1.3276 - val_loss: 1.3252\n"
          ],
          "name": "stdout"
        }
      ]
    },
    {
      "cell_type": "markdown",
      "metadata": {
        "id": "NRjRShGpNmZT",
        "colab_type": "text"
      },
      "source": [
        "**---> loss and val_loss is high and insignificant change**"
      ]
    },
    {
      "cell_type": "code",
      "metadata": {
        "id": "Ilxl_mPlISdK",
        "colab_type": "code",
        "colab": {
          "base_uri": "https://localhost:8080/",
          "height": 295
        },
        "outputId": "4067bd4c-d064-41e3-88af-c6609c81388f"
      },
      "source": [
        "plt.plot(hist.history['loss'])\n",
        "plt.plot(hist.history['val_loss'])\n",
        "plt.title('Loss history when training the model')\n",
        "plt.xlabel('Epoch')\n",
        "plt.ylabel('Loss')\n",
        "plt.legend(['Training loss', 'Validation loss']) #Table\n",
        "plt.show()"
      ],
      "execution_count": 22,
      "outputs": [
        {
          "output_type": "display_data",
          "data": {
            "image/png": "[encoded data removed]",
            "text/plain": [
              "<Figure size 432x288 with 1 Axes>"
            ]
          },
          "metadata": {
            "tags": [],
            "needs_background": "light"
          }
        }
      ]
    },
    {
      "cell_type": "code",
      "metadata": {
        "id": "TGVlijkUIaLE",
        "colab_type": "code",
        "colab": {
          "base_uri": "https://localhost:8080/",
          "height": 298
        },
        "outputId": "60b1ff38-e558-40b8-ea19-b5cb39bacded"
      },
      "source": [
        "test_index = 100\n",
        "plt.imshow(x_test[test_index])\n",
        "plt.show()\n",
        "predict_label = nn1.predict(x_test_vec)\n",
        "\n",
        "print('Predicted label of the first test sample: ', np.argmax(predict_label[test_index]))\n",
        "print('Ground-truth of the', test_index,'-th sample: ', y_test[test_index])"
      ],
      "execution_count": 24,
      "outputs": [
        {
          "output_type": "display_data",
          "data": {
            "image/png": "[encoded data removed]",
            "text/plain": [
              "<Figure size 432x288 with 1 Axes>"
            ]
          },
          "metadata": {
            "tags": [],
            "needs_background": "light"
          }
        },
        {
          "output_type": "stream",
          "text": [
            "Predicted label of the first test sample:  0\n",
            "Ground-truth of the 100 -th sample:  6\n"
          ],
          "name": "stdout"
        }
      ]
    },
    {
      "cell_type": "markdown",
      "metadata": {
        "id": "HbwXKpw_ImXD",
        "colab_type": "text"
      },
      "source": [
        "**---> Cannot predict with small neurons**"
      ]
    },
    {
      "cell_type": "markdown",
      "metadata": {
        "id": "2pDW6Ww8HSKJ",
        "colab_type": "text"
      },
      "source": [
        "# Test_case_2: Increase number of layer and neurons"
      ]
    },
    {
      "cell_type": "code",
      "metadata": {
        "id": "nQQAqVnhHSXe",
        "colab_type": "code",
        "colab": {}
      },
      "source": [
        "class NeuralNet_2:\n",
        "  def __init__(self):\n",
        "    self.model = None\n",
        "  def build(self, input_dim):\n",
        "    input = Input(shape = (input_dim,))\n",
        "    fc1 = Dense(1024, activation='sigmoid', use_bias = True)(input)\n",
        "    fc2 = Dense(1024, activation='sigmoid', use_bias = True)(fc1)\n",
        "    fc3 = Dense(1024, activation='sigmoid', use_bias = True)(fc2)\n",
        "    fc4 = Dense(512, activation='sigmoid', use_bias = True)(fc3)\n",
        "    fc5 = Dense(10, activation='sigmoid', use_bias = True)(fc4)\n",
        "    self.model = Model(input, fc5)\n",
        "    self.model.compile(optimizer = 'adam', loss='categorical_crossentropy')\n",
        "\n",
        "  def load(self, model_file):\n",
        "    self.model = load_model(model_file)\n",
        "\n",
        "  def save(self, model_file):\n",
        "    self.model.save(model_file)\n",
        "  \n",
        "  def train(self, x_train, y_train, x_test, y_test):\n",
        "    history = self.model.fit(x_train, y_train, validation_data=(x_test,y_test), epochs = 20, batch_size=128)\n",
        "    return history\n",
        "  \n",
        "  def summary(self):\n",
        "    self.model.summary()\n",
        "  \n",
        "  def predict(self, x_test):\n",
        "    return self.model.predict(x_test)"
      ],
      "execution_count": 43,
      "outputs": []
    },
    {
      "cell_type": "code",
      "metadata": {
        "id": "1vKOpGNqKmeg",
        "colab_type": "code",
        "colab": {
          "base_uri": "https://localhost:8080/",
          "height": 689
        },
        "outputId": "05f61984-d8fd-4b4e-d5b6-72810f4c260b"
      },
      "source": [
        "nn2 = NeuralNet_2()\n",
        "nn2.build(784)\n",
        "hist = nn2.train(x_train_vec, y_train_oh, x_test_vec, y_test_oh)"
      ],
      "execution_count": 44,
      "outputs": [
        {
          "output_type": "stream",
          "text": [
            "Epoch 1/20\n",
            "469/469 [==============================] - 32s 69ms/step - loss: 1.6478 - val_loss: 0.3324\n",
            "Epoch 2/20\n",
            "469/469 [==============================] - 32s 69ms/step - loss: 0.2388 - val_loss: 0.1658\n",
            "Epoch 3/20\n",
            "469/469 [==============================] - 36s 76ms/step - loss: 0.1401 - val_loss: 0.1471\n",
            "Epoch 4/20\n",
            "469/469 [==============================] - 32s 68ms/step - loss: 0.1067 - val_loss: 0.1026\n",
            "Epoch 5/20\n",
            "469/469 [==============================] - 32s 68ms/step - loss: 0.0828 - val_loss: 0.0935\n",
            "Epoch 6/20\n",
            "469/469 [==============================] - 32s 68ms/step - loss: 0.0611 - val_loss: 0.0889\n",
            "Epoch 7/20\n",
            "469/469 [==============================] - 32s 69ms/step - loss: 0.0534 - val_loss: 0.0775\n",
            "Epoch 8/20\n",
            "469/469 [==============================] - 32s 68ms/step - loss: 0.0425 - val_loss: 0.0723\n",
            "Epoch 9/20\n",
            "469/469 [==============================] - 32s 68ms/step - loss: 0.0352 - val_loss: 0.0714\n",
            "Epoch 10/20\n",
            "469/469 [==============================] - 32s 68ms/step - loss: 0.0308 - val_loss: 0.0986\n",
            "Epoch 11/20\n",
            "469/469 [==============================] - 32s 69ms/step - loss: 0.0270 - val_loss: 0.0789\n",
            "Epoch 12/20\n",
            "469/469 [==============================] - 32s 69ms/step - loss: 0.0227 - val_loss: 0.0850\n",
            "Epoch 13/20\n",
            "469/469 [==============================] - 32s 68ms/step - loss: 0.0210 - val_loss: 0.0804\n",
            "Epoch 14/20\n",
            "469/469 [==============================] - 32s 68ms/step - loss: 0.0168 - val_loss: 0.0884\n",
            "Epoch 15/20\n",
            "469/469 [==============================] - 32s 69ms/step - loss: 0.0138 - val_loss: 0.1040\n",
            "Epoch 16/20\n",
            "469/469 [==============================] - 32s 68ms/step - loss: 0.0162 - val_loss: 0.0889\n",
            "Epoch 17/20\n",
            "469/469 [==============================] - 32s 69ms/step - loss: 0.0132 - val_loss: 0.0941\n",
            "Epoch 18/20\n",
            "469/469 [==============================] - 32s 69ms/step - loss: 0.0113 - val_loss: 0.0854\n",
            "Epoch 19/20\n",
            "469/469 [==============================] - 32s 69ms/step - loss: 0.0120 - val_loss: 0.0927\n",
            "Epoch 20/20\n",
            "469/469 [==============================] - 32s 69ms/step - loss: 0.0112 - val_loss: 0.0862\n"
          ],
          "name": "stdout"
        }
      ]
    },
    {
      "cell_type": "markdown",
      "metadata": {
        "id": "Nc6o6axBMQLW",
        "colab_type": "text"
      },
      "source": [
        "**---> Run very slow**\n",
        "\n",
        "**---> loss is high and insignificant change**"
      ]
    },
    {
      "cell_type": "code",
      "metadata": {
        "id": "fvL5dC7lKuWV",
        "colab_type": "code",
        "colab": {
          "base_uri": "https://localhost:8080/",
          "height": 295
        },
        "outputId": "401ebc2f-c280-4762-ec08-580048e3e0e7"
      },
      "source": [
        "plt.plot(hist.history['loss'])\n",
        "plt.plot(hist.history['val_loss'])\n",
        "plt.title('Loss history when training the model')\n",
        "plt.xlabel('Epoch')\n",
        "plt.ylabel('Loss')\n",
        "plt.legend(['Training loss', 'Validation loss']) #Table\n",
        "plt.show()"
      ],
      "execution_count": 45,
      "outputs": [
        {
          "output_type": "display_data",
          "data": {
            "image/png": "[encoded data removed]",
            "text/plain": [
              "<Figure size 432x288 with 1 Axes>"
            ]
          },
          "metadata": {
            "tags": [],
            "needs_background": "light"
          }
        }
      ]
    },
    {
      "cell_type": "code",
      "metadata": {
        "id": "U4m1NYMlKxpd",
        "colab_type": "code",
        "colab": {
          "base_uri": "https://localhost:8080/",
          "height": 298
        },
        "outputId": "761acbf5-2916-4232-9045-e81cdc345331"
      },
      "source": [
        "test_index = 100\n",
        "plt.imshow(x_test[test_index])\n",
        "plt.show()\n",
        "predict_label = nn2.predict(x_test_vec)\n",
        "\n",
        "print('Predicted label of the first test sample: ', np.argmax(predict_label[test_index]))\n",
        "print('Ground-truth of the', test_index,'-th sample: ', y_test[test_index])"
      ],
      "execution_count": 46,
      "outputs": [
        {
          "output_type": "display_data",
          "data": {
            "image/png": "[encoded data removed]",
            "text/plain": [
              "<Figure size 432x288 with 1 Axes>"
            ]
          },
          "metadata": {
            "tags": [],
            "needs_background": "light"
          }
        },
        {
          "output_type": "stream",
          "text": [
            "Predicted label of the first test sample:  6\n",
            "Ground-truth of the 100 -th sample:  6\n"
          ],
          "name": "stdout"
        }
      ]
    },
    {
      "cell_type": "markdown",
      "metadata": {
        "id": "3PS32QMBfdm0",
        "colab_type": "text"
      },
      "source": [
        "**---> Predict right label**"
      ]
    }
  ]
}