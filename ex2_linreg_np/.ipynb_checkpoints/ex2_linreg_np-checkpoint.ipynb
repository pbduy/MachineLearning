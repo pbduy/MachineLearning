{
 "cells": [
  {
   "cell_type": "markdown",
   "metadata": {
    "colab_type": "text",
    "collapsed": true,
    "id": "WvWQkSK4ZFEf"
   },
   "source": [
    "# Giới thiệu\n",
    "\n",
    "### Tổng quan\n",
    "\n",
    "Chào mừng các bạn đã đến với bài tutorial Linear Regression. Chúng ta sẽ học cách sử dụng 2 hai thư viện được sử dụng rất phổ biến trong Machine Learning - Numpy và TensorFlow. \n",
    " \n",
    "### Mục tiêu học tập\n",
    "\n",
    "* Hiểu thêm về cách hoạt động của Numpy và Tensorflow Execution \n",
    "* Có thể viết một thuật toán đơn giản (và debug) với `Tensorflow Execution` và `Numpy` qua ví dụ về hồi quy tuyến tính.\n",
    "\n",
    "# Giới thiệu\n",
    "\n",
    "Bài toán lần này, chúng ta sẽ cùng nhau dự đoán giá nhà tại một thành phố Boston ở Mỹ với kích thước mẫu với 506 giá trị với 13 thuộc tính như sau\n",
    "\n",
    "```\n",
    "- CRIM (per capita crime rate by town) : tỷ lệ tội phạm bình quân đầu người theo thị trấn\n",
    "- ZN (proportion of residential land zoned for lots over 25,000 sq.ft)\n",
    ": tỷ lệ đất thổ cư được quy hoạch cho các lô trên 25.000 sq.ft\n",
    "- INDUS (proportion of non-retail business acres per town) : tỷ lệ mẫu đất kinh doanh không bán lẻ trên mỗi thị trấn\n",
    "- CHAS (Charles River dummy variable (= 1 if tract bounds river; 0 otherwise)): =1 nếu có dải đất bao sông,ngược lại = 0\n",
    "- NOX (nitric oxides concentration (parts per 10 million)): nồng độ oxit nitric (phần trên 10 triệu)\n",
    "- RM (average number of rooms per dwelling): số phòng trung bình mỗi người ở\n",
    "- AGE (proportion of owner-occupied units built prior to 1940): tỷ lệ các đơn vị chủ sở hữu được xây dựng trước năm 1940\n",
    "- DIS (weighted distances to five Boston employment centres): khoảng cách trọng số đến năm trung tâm việc làm Boston\n",
    "- RAD (index of accessibility to radial highways): chỉ số khả năng tiếp cận đường cao tốc \n",
    "- TAX (full-value property-tax rate per $10,000): thuế tài sản đầy đủ / $ 10 000\n",
    "- PTRATIO (pupil-teacher ratio by town): tỉ lệ học sinh - giáo viên theo thị trấn\n",
    "- B 1000(Bk - 0.63)ˆ2 where Bk is the proportion of blacks by town\n",
    "- LSTAT (% lower status of the population): tình trạng dân số thấp hơn\n",
    "- MEDV (Median value of owner-occupied homes in $1000's): Giá trị trung bình của các ngôi nhà chủ sở hữu trong $ 1000\n",
    "```\n",
    "\n",
    "Với thông tin này, ta sẽ cùng nhau tiến hành xây dựng một hàm giả thuyết theo mô hình hồi quy tuyến tính dựa trên `numpy` và `tensorflow` để đưa ra giá nhà dựa trên ít nhất là 2 thuộc tính."
   ]
  },
  {
   "cell_type": "markdown",
   "metadata": {
    "colab_type": "text",
    "id": "kBFbN5imZFEi"
   },
   "source": [
    "### Tìm nghiệm xấp xỉ bằng `Numpy`"
   ]
  },
  {
   "cell_type": "markdown",
   "metadata": {
    "colab_type": "text",
    "id": "GIMQ5b3gZFEj"
   },
   "source": [
    "#### Nhập thư viện"
   ]
  },
  {
   "cell_type": "code",
   "execution_count": 1,
   "metadata": {
    "colab": {},
    "colab_type": "code",
    "id": "Xqfxb77cZFEl"
   },
   "outputs": [],
   "source": [
    "# IMPORT \n",
    "import numpy as np\n",
    "import matplotlib.pyplot as plt\n",
    "# %matplotlib inline"
   ]
  },
  {
   "cell_type": "markdown",
   "metadata": {
    "colab_type": "text",
    "id": "EFMOazQpZFEr"
   },
   "source": [
    "#### Đọc dữ liệu"
   ]
  },
  {
   "cell_type": "code",
   "execution_count": 3,
   "metadata": {
    "colab": {
     "base_uri": "https://localhost:8080/",
     "height": 333
    },
    "colab_type": "code",
    "executionInfo": {
     "elapsed": 903,
     "status": "error",
     "timestamp": 1553761498081,
     "user": {
      "displayName": "Giang Tran",
      "photoUrl": "https://lh3.googleusercontent.com/-H7Bep9wB0pA/AAAAAAAAAAI/AAAAAAAAAAo/KxYeBPfa1nc/s64/photo.jpg",
      "userId": "07673953151169661759"
     },
     "user_tz": -420
    },
    "id": "RPvn1MX5ZFEt",
    "outputId": "051fb53a-6d5e-40fb-a2a1-384421026ef3"
   },
   "outputs": [
    {
     "name": "stdout",
     "output_type": "stream",
     "text": [
      "Selected original features are ['NOX' 'RM']\n"
     ]
    }
   ],
   "source": [
    "from utils_function import load_Boston_housing_data\n",
    "\n",
    "raw_train_X, test_X, train_Y, test_Y = load_Boston_housing_data(feature_ind = [4,5])"
   ]
  },
  {
   "cell_type": "markdown",
   "metadata": {},
   "source": [
    "Vừa rồi, ta vừa mới tải tập dữ liệu xuống và chiết ra thành 4 tập. \n",
    "\n",
    "Trong đó, `train_X` và `train_Y` được dùng để xây dựng mô hình. Còn `test_X`, `test_Y` được giữ lại và chỉ được dùng để đánh giá độ tốt của mô hình ở phút cuối. \n",
    "\n",
    "Tỉ lệ được chia ra giữa các phần xây dựng và kiểm chứng là 1:4 Sau này, chúng ta sẽ học kỹ hơn về phần này nên phần đánh giá độ tốt của mô hình mình chỉ dừng lại ở mức là thực thi câu hàm đánh giá.\n",
    "\n",
    "Để đơn giản, dữ liệu được lấy vào chỉ gồm 2 đặc tính\n",
    "\n",
    "```\n",
    "    - NOX nitric oxides concentration (parts per 10 million)\n",
    "    - RM average number of rooms per dwelling\n",
    "```\n",
    "\n",
    "Tạm dịch\n",
    "\n",
    "```\n",
    "    - INDUS: nồng độ oxit nitric (phần trên 10 triệu)\n",
    "    - RM: số phòng trung bình mỗi căn hộ/ nhà\n",
    "```"
   ]
  },
  {
   "cell_type": "markdown",
   "metadata": {
    "colab_type": "text",
    "id": "ubr3DzJrZFE3"
   },
   "source": [
    "Để hiểu thêm về tập dữ liệu ta có thể làm thêm một số minh họa như sau"
   ]
  },
  {
   "cell_type": "markdown",
   "metadata": {
    "colab_type": "text",
    "id": "hfU8X4kkZFE5"
   },
   "source": [
    "#### Minh họa dữ liệu"
   ]
  },
  {
   "cell_type": "code",
   "execution_count": 4,
   "metadata": {
    "colab": {
     "base_uri": "https://localhost:8080/",
     "height": 387
    },
    "colab_type": "code",
    "executionInfo": {
     "elapsed": 932,
     "status": "error",
     "timestamp": 1553761498921,
     "user": {
      "displayName": "Giang Tran",
      "photoUrl": "https://lh3.googleusercontent.com/-H7Bep9wB0pA/AAAAAAAAAAI/AAAAAAAAAAo/KxYeBPfa1nc/s64/photo.jpg",
      "userId": "07673953151169661759"
     },
     "user_tz": -420
    },
    "id": "azZBfq_KZFE6",
    "outputId": "60f6c199-d208-4987-bad6-aad394066824"
   },
   "outputs": [
    {
     "data": {
      "image/png": "[encoded data removed]",
      "text/plain": [
       "<Figure size 432x288 with 1 Axes>"
      ]
     },
     "metadata": {
      "needs_background": "light"
     },
     "output_type": "display_data"
    },
    {
     "data": {
      "image/png": "[encoded data removed]",
      "text/plain": [
       "<Figure size 432x288 with 1 Axes>"
      ]
     },
     "metadata": {
      "needs_background": "light"
     },
     "output_type": "display_data"
    }
   ],
   "source": [
    "from utils_function import scatter_plot\n",
    "\n",
    "scatter_plot(raw_train_X[:, 0], train_Y,\\\n",
    "            title=\"nitric oxides concentration (parts per 10 million)\",\\\n",
    "            x_label = \"Industrialness\",\\\n",
    "            y_label = \"Med House Price\")\n",
    "\n",
    "\n",
    "scatter_plot(raw_train_X[:, 1], train_Y,\\\n",
    "            title=\"Avg Num Rooms vs Med House Price\",\\\n",
    "            x_label = \"Avg Num Rooms\",\\\n",
    "            y_label = \"Med House Price\")"
   ]
  },
  {
   "cell_type": "markdown",
   "metadata": {
    "colab_type": "text",
    "id": "mXhdreS6ZFFB"
   },
   "source": [
    "#### Bài 1. Viết hàm cost function\n",
    "Nhắc lại, từ công thức tính **mean squared error**, ta có:\n",
    "$$\\mathcal{L}(\\hat{y}, y) = \\frac{1}{2N} \\sum_{i=1}^N (\\hat{y}^{(i)}-y^{(i)})^2 $$\n",
    "Khai triển, kết quả có là\n",
    "$$\\mathcal{L}(\\hat{y}, y) = \\frac{1}{2N} \\sum_{i=1}^N (w_1 x_1^{(i)} + w_2 x_2^{(i)} + b - y^{(i)})^2 $$"
   ]
  },
  {
   "cell_type": "markdown",
   "metadata": {
    "colab_type": "text",
    "id": "hpsRYit_ZFFD"
   },
   "source": [
    "#### 1.1. Viết chương trình"
   ]
  },
  {
   "cell_type": "code",
   "execution_count": 5,
   "metadata": {
    "colab": {},
    "colab_type": "code",
    "id": "fZBuE6xyZFFE"
   },
   "outputs": [],
   "source": [
    "# GRADED FUNCTION\n",
    "def np_mse_cost(w, b, X, y):\n",
    "    '''\n",
    "    Evaluate the cost function in a non-vectorized manner for \n",
    "    inputs `X` and targets `y`, at weights `w` and `b`.\n",
    "    '''\n",
    "    \n",
    "    costs = 0\n",
    "    N = len(y)\n",
    "    for i in range(len(y)):\n",
    "        \n",
    "        # TO_DO_1: complete below expression to calculate cost function\n",
    "        y_hat = None\n",
    "        costs += None\n",
    "        \n",
    "    return None"
   ]
  },
  {
   "cell_type": "markdown",
   "metadata": {
    "colab_type": "text",
    "id": "l1gRrI4vZFFt"
   },
   "source": [
    "#### Bài 2. Vector hóa hàm cost\n",
    "\n",
    "Ngoài ra, ta còn có thể viết lại công thức trên như sau:\n",
    "\n",
    "$$\\mathcal{L}(\\hat{y}, y) = \\frac{1}{2N} \\| \\bf{X} \\bf{w} + b \\mathbb{1} - \\bf{y} \\| ^2$$ "
   ]
  },
  {
   "cell_type": "markdown",
   "metadata": {
    "colab_type": "text",
    "id": "TW_mnudcZFFw"
   },
   "source": [
    "#### 2.1 Viết chương trình"
   ]
  },
  {
   "cell_type": "code",
   "execution_count": 6,
   "metadata": {
    "colab": {},
    "colab_type": "code",
    "id": "0Yv_kF-PZFFy"
   },
   "outputs": [],
   "source": [
    "# GRADED FUNCTION\n",
    "def np_cost_vectorized(w, b, X, y):\n",
    "    '''\n",
    "    Evaluate the cost function in a vectorized manner for \n",
    "    inputs `X` and targets `t`, at weights `w1`, `w2` and `b`.\n",
    "    '''\n",
    "    \n",
    "    #TO_DO_2: Complete the following expression\n",
    "    N = None\n",
    "    w = None\n",
    "    y_hat = None\n",
    "    \n",
    "    return None"
   ]
  },
  {
   "cell_type": "markdown",
   "metadata": {
    "colab_type": "text",
    "id": "Q8AgLEpVZFF4"
   },
   "source": [
    "#### 2.2 Chạy thử chương trình"
   ]
  },
  {
   "cell_type": "code",
   "execution_count": null,
   "metadata": {
    "colab": {
     "base_uri": "https://localhost:8080/",
     "height": 163
    },
    "colab_type": "code",
    "executionInfo": {
     "elapsed": 889,
     "status": "error",
     "timestamp": 1553761502015,
     "user": {
      "displayName": "Giang Tran",
      "photoUrl": "https://lh3.googleusercontent.com/-H7Bep9wB0pA/AAAAAAAAAAI/AAAAAAAAAAo/KxYeBPfa1nc/s64/photo.jpg",
      "userId": "07673953151169661759"
     },
     "user_tz": -420
    },
    "id": "eDHcgRjUZFF5",
    "outputId": "5e3e1ecb-4d77-4264-a990-fb3116c18384"
   },
   "outputs": [],
   "source": [
    "np_cost_vectorized([3, 5], 20, raw_train_X, train_Y)"
   ]
  },
  {
   "cell_type": "code",
   "execution_count": null,
   "metadata": {
    "colab": {
     "base_uri": "https://localhost:8080/",
     "height": 163
    },
    "colab_type": "code",
    "executionInfo": {
     "elapsed": 961,
     "status": "error",
     "timestamp": 1553761502454,
     "user": {
      "displayName": "Giang Tran",
      "photoUrl": "https://lh3.googleusercontent.com/-H7Bep9wB0pA/AAAAAAAAAAI/AAAAAAAAAAo/KxYeBPfa1nc/s64/photo.jpg",
      "userId": "07673953151169661759"
     },
     "user_tz": -420
    },
    "id": "8RiihHrsZFGB",
    "outputId": "b7525fdb-51d4-460f-9ae1-5a98f1e04ca9"
   },
   "outputs": [],
   "source": [
    "np_cost_vectorized([3, 5], 0, raw_train_X, train_Y)"
   ]
  },
  {
   "cell_type": "markdown",
   "metadata": {
    "colab_type": "text",
    "id": "uCiVsT4RZFGH"
   },
   "source": [
    "### Tìm nghiệm chính xác"
   ]
  },
  {
   "cell_type": "markdown",
   "metadata": {
    "colab_type": "text",
    "id": "U899ZS1IZFGL"
   },
   "source": [
    "#### Bài 3. Tính nghiệm chính xác\n",
    "\n",
    "Hiên thời, vecto của ta đang có dạng như sau:"
   ]
  },
  {
   "cell_type": "code",
   "execution_count": null,
   "metadata": {
    "colab": {
     "base_uri": "https://localhost:8080/",
     "height": 163
    },
    "colab_type": "code",
    "executionInfo": {
     "elapsed": 732,
     "status": "error",
     "timestamp": 1553761503813,
     "user": {
      "displayName": "Giang Tran",
      "photoUrl": "https://lh3.googleusercontent.com/-H7Bep9wB0pA/AAAAAAAAAAI/AAAAAAAAAAo/KxYeBPfa1nc/s64/photo.jpg",
      "userId": "07673953151169661759"
     },
     "user_tz": -420
    },
    "id": "TNl21TFRZFGN",
    "outputId": "783e10c5-4d5c-4d65-bf2c-a76879496d63"
   },
   "outputs": [],
   "source": [
    "print(\"Size of data X Matrix %s\"  % str(raw_train_X.shape))"
   ]
  },
  {
   "cell_type": "code",
   "execution_count": null,
   "metadata": {
    "colab": {
     "base_uri": "https://localhost:8080/",
     "height": 163
    },
    "colab_type": "code",
    "executionInfo": {
     "elapsed": 626,
     "status": "error",
     "timestamp": 1553761504259,
     "user": {
      "displayName": "Giang Tran",
      "photoUrl": "https://lh3.googleusercontent.com/-H7Bep9wB0pA/AAAAAAAAAAI/AAAAAAAAAAo/KxYeBPfa1nc/s64/photo.jpg",
      "userId": "07673953151169661759"
     },
     "user_tz": -420
    },
    "id": "tarwkaiDZFGW",
    "outputId": "d946cc41-ea4b-49af-f9f5-6943a73bef2c"
   },
   "outputs": [],
   "source": [
    "print(\"Size of data Y array %s\"  % str(train_Y.shape))"
   ]
  },
  {
   "cell_type": "markdown",
   "metadata": {
    "colab_type": "text",
    "id": "sFQuW1e3ZFGf"
   },
   "source": [
    "Để chuyển qua phép tính ma trận có dạng như sau $X *w + b$ ta cần bổ sung thêm một chiều cho hệ số tự do ở phần cuối của mỗi dòng trong ma trận. \n",
    "\n",
    "**Ví dụ** Lấy dòng đầu tiên của ma trận hiện thời, ta có: `array([ 6.2  ,  6.951 ])`   $\\,\\to\\,$  `array([ 6.2  ,  6.951,  1.   ])`"
   ]
  },
  {
   "cell_type": "markdown",
   "metadata": {
    "colab_type": "text",
    "id": "zvbmdKThZFGg"
   },
   "source": [
    "#### 3. 1 Tái tạo vector cho tập train"
   ]
  },
  {
   "cell_type": "code",
   "execution_count": null,
   "metadata": {
    "colab": {},
    "colab_type": "code",
    "id": "Oriea6WgZFGh"
   },
   "outputs": [],
   "source": [
    "# Add one at the end of each row in train_X by np.concatenate\n",
    "train_X = np.concatenate([raw_train_X, np.ones([np.shape(raw_train_X)[0], 1])], axis=1)"
   ]
  },
  {
   "cell_type": "markdown",
   "metadata": {
    "colab_type": "text",
    "id": "HVLeM-4oZFGp"
   },
   "source": [
    "#### 3.2 Viết chương trình tính nghiệm\n",
    " \n",
    "$$w = \\left(X^{\\rm T}X\\right)^{-1} \\left(X^{\\rm T}y \\right) =  A * c $$"
   ]
  },
  {
   "cell_type": "code",
   "execution_count": null,
   "metadata": {
    "colab": {},
    "colab_type": "code",
    "id": "HurNkHCJZFGq"
   },
   "outputs": [],
   "source": [
    "# GRADED FUNCTION\n",
    "def np_solve_exactly(X, y):\n",
    "    '''\n",
    "    Solve linear regression exactly. (fully vectorized)\n",
    "    \n",
    "    Given `X` - NxD matrix of inputs\n",
    "          `t` - target outputs\n",
    "    Returns the optimal weights as a D-dimensional vector\n",
    "\n",
    "    '''\n",
    "    \n",
    "    #TO_DO_3: Complete the below followed the above expressions\n",
    "    A = None\n",
    "    c = None\n",
    "    \n",
    "    return None"
   ]
  },
  {
   "cell_type": "markdown",
   "metadata": {
    "colab_type": "text",
    "id": "6Fp-PpNKZFGy"
   },
   "source": [
    "#### 3.3 Chạy thử chương trình"
   ]
  },
  {
   "cell_type": "code",
   "execution_count": null,
   "metadata": {
    "colab": {},
    "colab_type": "code",
    "id": "bkWce6e_ZFG0",
    "outputId": "a15aabe5-b167-4f81-d923-54dd98b81ea0"
   },
   "outputs": [],
   "source": [
    "opt_w_exactly = np_solve_exactly(train_X, train_Y)\n",
    "print(\"Cost:\", np_cost_vectorized(opt_w_exactly[:2], opt_w_exactly[2], raw_train_X, train_Y))"
   ]
  },
  {
   "cell_type": "markdown",
   "metadata": {
    "colab_type": "text",
    "id": "s1eTlYy1ZFHB"
   },
   "source": [
    "### Tìm nghiệm xấp xỉ bằng `Numpy`\n"
   ]
  },
  {
   "cell_type": "markdown",
   "metadata": {
    "colab_type": "text",
    "id": "0iDi5klvZFHD"
   },
   "source": [
    "#### Bài 4. Véc-tơ hóa hàm tính grad\n",
    "\n",
    "Với $i = 1...m $ và $j = 1...n$ xét\n",
    "\n",
    "$$ \\frac{\\partial \\mathcal{L}}{\\partial w_j} = \\frac{1}{N}\\sum_i x_j^{(i)}(\\hat{y}^{(i)}-y^{(i)}) $$\n",
    "\n",
    "\n",
    "\n",
    "#### 4.1 Viết chương trình"
   ]
  },
  {
   "cell_type": "code",
   "execution_count": null,
   "metadata": {
    "colab": {},
    "colab_type": "code",
    "id": "dYDDwEn8ZFHF"
   },
   "outputs": [],
   "source": [
    "# GRADED FUNCTION\n",
    "def np_grad_fn(weights, X, y):\n",
    "    '''\n",
    "    Given `weights` - a current \"Guess\" of what our weights should be\n",
    "          `X` - matrix of shape (N,D) of input features\n",
    "          `t` - target y values\n",
    "    Return gradient of each weight evaluated at the current value\n",
    "    '''\n",
    "    #TO_DO_4: Complete the below followed the above expressions\n",
    "    N, D = None\n",
    "    y_hat = None\n",
    "    error = None\n",
    "    return None"
   ]
  },
  {
   "cell_type": "markdown",
   "metadata": {
    "colab_type": "text",
    "id": "JwgIvL3iZFHN"
   },
   "source": [
    "#### Bài  5. Tính dựa trên Gradient Descent\n",
    "\n",
    "Xấp xỉ giá nghiệm như sau\n",
    "\n",
    "$$ w := w - \\alpha * \\left( h_\\theta(x^{(i)}) - y^{(i)} \\right)x_j^{(i)}$$\n",
    "\n",
    "#### 5.1 Viết chương trình"
   ]
  },
  {
   "cell_type": "code",
   "execution_count": null,
   "metadata": {
    "colab": {},
    "colab_type": "code",
    "id": "hFetFIwRZFHP"
   },
   "outputs": [],
   "source": [
    "# GRADED FUNCTION\n",
    "def np_solve_via_gradient_descent(X, y, niter=100000, alpha=0.005):\n",
    "    '''\n",
    "    Given `X` - matrix of shape (N,D) of input features\n",
    "          `y` - target y values\n",
    "    Solves for linear regression weights.\n",
    "    Return weights after `niter` iterations.\n",
    "    '''\n",
    "    N, D = np.shape(X)\n",
    "    # initialize all the weights to zeros\n",
    "    w = np.zeros([D])\n",
    "    for k in range(niter):\n",
    "        #TO_DO_5: Complete the below followed the above expressions\n",
    "        dw = None\n",
    "        w = None\n",
    "    return None"
   ]
  },
  {
   "cell_type": "markdown",
   "metadata": {
    "colab_type": "text",
    "id": "CVp2H_hVZFHT"
   },
   "source": [
    "#### 5.2 Chạy thử chương trình"
   ]
  },
  {
   "cell_type": "code",
   "execution_count": null,
   "metadata": {
    "colab": {},
    "colab_type": "code",
    "id": "2AEBeqsdZFHV",
    "outputId": "1a75d879-4bfb-470c-911e-b605e2817aab"
   },
   "outputs": [],
   "source": [
    "opt_w = np_solve_via_gradient_descent(train_X, train_Y)"
   ]
  },
  {
   "cell_type": "code",
   "execution_count": null,
   "metadata": {},
   "outputs": [],
   "source": [
    "print(\"Training cost:\", np_cost_vectorized(opt_w[:2], opt_w[2], raw_train_X, train_Y))"
   ]
  },
  {
   "cell_type": "code",
   "execution_count": null,
   "metadata": {},
   "outputs": [],
   "source": [
    "print(\"Testing cost:\", np_cost_vectorized(opt_w[:2], opt_w[2], test_X, test_Y))"
   ]
  },
  {
   "cell_type": "markdown",
   "metadata": {},
   "source": [
    "####  Bài 6. Kỹ thuật tách/trích đặc trưng (Feature Engineering)"
   ]
  },
  {
   "cell_type": "markdown",
   "metadata": {},
   "source": [
    "Feature Engineering là quá trình chuyển đổi tập dữ liệu thô ban đầu thành các đặc trưng (thuộc tính) quan trọng đại diện cho các mẫu dữ liệu huấn luyện giúp nâng cao độ chính xác của mô hình huấn luyện. các bài toán con trong Feature Engineering gồm trích xuất đặc trưng (Feature Extraction), lựa chọn đặc trưng (Feature Selection), học đặc trưng (Feature Learning) (sách \"Big Data Analytics: Systems, Algorithms, Applications\").\n",
    "\n",
    "Trong bài này chúng ta sử dụng phương pháp **Feature Extraction**, cụ thể xây dựng các đặc trưng mới để nâng cao độ chính xác của mô hình\n"
   ]
  },
  {
   "cell_type": "code",
   "execution_count": null,
   "metadata": {},
   "outputs": [],
   "source": [
    "n_samples, dimension = raw_train_X.shape\n",
    "X1 = raw_train_X[:,0].reshape((n_samples,1))\n",
    "X2 = raw_train_X[:,1].reshape((n_samples,1))\n",
    "X1_sqr = (X1**2).reshape((n_samples,1))\n",
    "sin_X2 = (np.sin(X2)).reshape((n_samples,1))\n",
    "X1X2 = (X1*X2).reshape((n_samples,1))\n",
    "# create new input from new features\n",
    "new_train_X = np.concatenate((X1,X2,X1_sqr,sin_X2,X1X2),axis=1) # concatenate new features here"
   ]
  },
  {
   "cell_type": "code",
   "execution_count": null,
   "metadata": {},
   "outputs": [],
   "source": [
    "# Add one at the end of each row in new_train_X by np.concatenate\n",
    "featured_train_X = np.concatenate([new_train_X, np.ones([np.shape(new_train_X)[0], 1])], axis=1)"
   ]
  },
  {
   "cell_type": "code",
   "execution_count": null,
   "metadata": {},
   "outputs": [],
   "source": [
    "# Calculate weight for new featured X using  np_solve_via_gradient_descent\n",
    "opt_w = np_solve_via_gradient_descent(featured_train_X, train_Y)"
   ]
  },
  {
   "cell_type": "code",
   "execution_count": null,
   "metadata": {},
   "outputs": [],
   "source": [
    "# Calculate cost for new featured X \n",
    "print(\"New Training cost:\", np_cost_vectorized(opt_w[:-1], opt_w[-1], new_train_X, train_Y))"
   ]
  },
  {
   "cell_type": "markdown",
   "metadata": {},
   "source": [
    "Nhận xét : Cost khi sử dụng các feature mới nhỏ hơn so với feature gốc\n"
   ]
  }
 ],
 "metadata": {
  "colab": {
   "name": "Lab1_Solution.ipynb",
   "provenance": [],
   "version": "0.3.2"
  },
  "kernelspec": {
   "display_name": "Python 3",
   "language": "python",
   "name": "python3"
  },
  "language_info": {
   "codemirror_mode": {
    "name": "ipython",
    "version": 3
   },
   "file_extension": ".py",
   "mimetype": "text/x-python",
   "name": "python",
   "nbconvert_exporter": "python",
   "pygments_lexer": "ipython3",
   "version": "3.6.9"
  }
 },
 "nbformat": 4,
 "nbformat_minor": 1
}
